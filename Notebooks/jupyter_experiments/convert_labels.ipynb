{
 "cells": [
  {
   "cell_type": "code",
   "execution_count": 1,
   "metadata": {},
   "outputs": [],
   "source": [
    "import csv"
   ]
  },
  {
   "cell_type": "code",
   "execution_count": 13,
   "metadata": {},
   "outputs": [
    {
     "name": "stdout",
     "output_type": "stream",
     "text": [
      "Conversion complete. Output saved as 'COAD_g0_arrest.csv'.\n"
     ]
    }
   ],
   "source": [
    "# Open the input .txt file\n",
    "with open('/Users/awxlong/Desktop/my-studies/hpc_exps/Data/COAD_g0_arrest.txt', 'r') as file:\n",
    "    # Read the contents of the file\n",
    "    lines = file.readlines()\n",
    "\n",
    "# Create a list to store the modified data\n",
    "data = []\n",
    "\n",
    "# Iterate through the lines\n",
    "for line in lines:\n",
    "    # Split the line by tab\n",
    "    fields = line.strip().split('\\t')\n",
    "    \n",
    "    # Modify the \"Sample\" column\n",
    "    patient_id = fields[0].replace('-01', '')\n",
    "    fields[0] = patient_id\n",
    "    \n",
    "    # Rename \"G0arrest\" to \"g0_arrest\"\n",
    "    for i, field in enumerate(fields):\n",
    "        if field == 'Sample':\n",
    "            fields[i] = \"PatientID\"\n",
    "        if field == \"G0arrest\":\n",
    "            fields[i] = \"g0_arrest\"\n",
    "        if field == 'Score':\n",
    "            fields[i] = 'g0_arrest_score'\n",
    "    \n",
    "    # Add the modified row to the data list\n",
    "    data.append(fields)\n",
    "\n",
    "# Open the output .csv file\n",
    "with open('/Users/awxlong/Desktop/my-studies/hpc_exps/Data/COAD_g0_arrest.csv', 'w', newline='') as file:\n",
    "    # Create a CSV writer object\n",
    "    writer = csv.writer(file)\n",
    "    \n",
    "    # Write the header row with \"PatientID\"\n",
    "    # writer.writerow(['PatientID'] + [field if field != \"Sample\" else \"g0_arrest\" for field in fields[1:]])\n",
    "    \n",
    "    # Write the modified data rows\n",
    "    writer.writerows(data)\n",
    "\n",
    "print(\"Conversion complete. Output saved as 'COAD_g0_arrest.csv'.\")"
   ]
  }
 ],
 "metadata": {
  "kernelspec": {
   "display_name": "biomedai",
   "language": "python",
   "name": "python3"
  },
  "language_info": {
   "codemirror_mode": {
    "name": "ipython",
    "version": 3
   },
   "file_extension": ".py",
   "mimetype": "text/x-python",
   "name": "python",
   "nbconvert_exporter": "python",
   "pygments_lexer": "ipython3",
   "version": "3.9.18"
  }
 },
 "nbformat": 4,
 "nbformat_minor": 2
}
