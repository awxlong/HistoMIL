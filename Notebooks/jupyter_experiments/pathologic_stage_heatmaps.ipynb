{
 "cells": [
  {
   "cell_type": "code",
   "execution_count": 1,
   "metadata": {},
   "outputs": [],
   "source": [
    "%load_ext autoreload\n",
    "%autoreload 2"
   ]
  },
  {
   "cell_type": "code",
   "execution_count": 10,
   "metadata": {},
   "outputs": [],
   "source": [
    "import pickle\n",
    "import os\n",
    "import pandas as pd\n",
    "import numpy as np\n",
    "from sklearn.ensemble import RandomForestClassifier\n",
    "from sklearn.metrics import f1_score\n",
    "from sklearn.metrics import roc_auc_score\n",
    "import matplotlib.pyplot as plt\n",
    "import seaborn as sns\n",
    "os.chdir('/Users/awxlong/Desktop/my-studies/hpc_exps/')"
   ]
  },
  {
   "cell_type": "code",
   "execution_count": 3,
   "metadata": {},
   "outputs": [
    {
     "name": "stderr",
     "output_type": "stream",
     "text": [
      "/Users/awxlong/anaconda3/envs/biomedai/lib/python3.9/site-packages/tqdm/auto.py:21: TqdmWarning: IProgress not found. Please update jupyter and ipywidgets. See https://ipywidgets.readthedocs.io/en/stable/user_install.html\n",
      "  from .autonotebook import tqdm as notebook_tqdm\n"
     ]
    }
   ],
   "source": [
    "from HistoMIL.DATA.Slide.concepts.feature import Features\n",
    "from HistoMIL.EXP.paras.env import EnvParas\n"
   ]
  },
  {
   "cell_type": "code",
   "execution_count": 4,
   "metadata": {},
   "outputs": [],
   "source": [
    "preprocess_env = EnvParas()\n",
    "\n",
    "machine_cohort_loc = \"/Users/awxlong/Desktop/my-studies/hpc_exps/User/CRC_machine_config.pkl\"\n",
    "with open(machine_cohort_loc, \"rb\") as f:   # Unpickling\n",
    "    [data_locs,exp_locs,machine,user] = pickle.load(f)\n",
    "preprocess_env.data_locs = data_locs\n",
    "preprocess_env.exp_locs = exp_locs"
   ]
  },
  {
   "cell_type": "code",
   "execution_count": 5,
   "metadata": {},
   "outputs": [
    {
     "data": {
      "text/plain": [
       "FeatureParas(model_name='resnet18', device='mps', trans=<function only_naive_transforms at 0x354469700>, batch_size=32, cluster_nb=200, with_semantic_shifts=False)"
      ]
     },
     "execution_count": 5,
     "metadata": {},
     "output_type": "execute_result"
    }
   ],
   "source": [
    "preprocess_env.collector_para.feature"
   ]
  },
  {
   "cell_type": "code",
   "execution_count": 6,
   "metadata": {},
   "outputs": [],
   "source": [
    "clinical_root = \"/Users/awxlong/Desktop/my-studies/temp_data/COAD/Feature/clinical/\"\n"
   ]
  },
  {
   "cell_type": "code",
   "execution_count": 7,
   "metadata": {},
   "outputs": [],
   "source": [
    "# feature_importances = []\n",
    "# cv_scores_f1 = []\n",
    "# cv_scores_auc = []\n",
    "# exclude_columns = ['g0_arrest', 'PatientID']\n",
    "# ensemble_test_preds = []\n",
    "# for fold in os.listdir(clinical_root):\n",
    "\n",
    "#     if fold.startswith('cv'):\n",
    "#         rf_model = RandomForestClassifier(random_state=42)\n",
    "#         train_df = pd.read_csv(os.path.join(clinical_root, fold, 'train.csv'))\n",
    "#         train_df.drop(columns=['Unnamed: 0'], inplace=True)\n",
    "#         train_df.drop_duplicates(inplace=True)\n",
    "#         X_train, y_train = train_df.loc[:, ~train_df.columns.isin(exclude_columns)].values, train_df.loc[:, 'g0_arrest'].values\n",
    "#         rf_model.fit(X_train, y_train)\n",
    "#         # Get feature importances\n",
    "#         importances = rf_model.feature_importances_\n",
    "        \n",
    "#         val_df = pd.read_csv(os.path.join(clinical_root, fold, 'validation.csv'))\n",
    "#         val_df.drop(columns=['Unnamed: 0'], inplace=True)\n",
    "#         val_df.drop_duplicates(inplace=True)\n",
    "#         X_val, y_val = val_df.loc[:, ~val_df.columns.isin(exclude_columns)].values, val_df.loc[:, 'g0_arrest'].values\n",
    "#         y_pred_val = rf_model.predict_proba(X_val)[:, 1]\n",
    "#         y_pred_val_binarized = (y_pred_val > 0.5).astype(int)\n",
    "#         feature_importances.append(importances)\n",
    "#         cv_scores_f1.append(f1_score(y_val, y_pred_val_binarized))\n",
    "#         cv_scores_auc.append(roc_auc_score(y_val, y_pred_val))\n",
    "\n",
    "#     # if fold.startswith('test'):\n",
    "#         test_df = pd.read_csv(os.path.join(clinical_root, 'test', 'test.csv'))\n",
    "#         test_df.drop(columns=['Unnamed: 0'], inplace=True)\n",
    "#         test_df.drop_duplicates(inplace=True)\n",
    "#         X_test, y_test = test_df.loc[:, ~test_df.columns.isin(exclude_columns)].values, test_df.loc[:, 'g0_arrest'].values\n",
    "#         y_pred_test = rf_model.predict_proba(X_test)[:, 1]\n",
    "#         ensemble_test_preds.append(y_pred_test)"
   ]
  },
  {
   "cell_type": "code",
   "execution_count": 39,
   "metadata": {},
   "outputs": [
    {
     "data": {
      "text/plain": [
       "(58, 30)"
      ]
     },
     "execution_count": 39,
     "metadata": {},
     "output_type": "execute_result"
    }
   ],
   "source": [
    "test_df = pd.read_csv(os.path.join(clinical_root, 'test', 'test.csv'))\n",
    "# test_df.to_csv('test_set.csv')\n",
    "test_df.shape"
   ]
  },
  {
   "cell_type": "code",
   "execution_count": 62,
   "metadata": {},
   "outputs": [
    {
     "data": {
      "text/plain": [
       "['Pathologic Stage_Stage II',\n",
       " 'Pathologic Stage_Stage IIA',\n",
       " 'Pathologic Stage_Stage IIB',\n",
       " 'Pathologic Stage_Stage III',\n",
       " 'Pathologic Stage_Stage IIIB',\n",
       " 'Pathologic Stage_Stage IIIC',\n",
       " 'Pathologic Stage_Stage IV',\n",
       " 'Pathologic Stage_Stage IVA']"
      ]
     },
     "execution_count": 62,
     "metadata": {},
     "output_type": "execute_result"
    }
   ],
   "source": [
    "[col for col in test_df.columns if col.startswith('Pathologic')]\n",
    "# [col for col in test_df.columns]"
   ]
  },
  {
   "cell_type": "code",
   "execution_count": 43,
   "metadata": {},
   "outputs": [
    {
     "name": "stdout",
     "output_type": "stream",
     "text": [
      "Early Stage PatientIDs:\n",
      "       PatientID  g0_arrest\n",
      "0   TCGA-AD-6963          0\n",
      "2   TCGA-AY-6197          0\n",
      "3   TCGA-D5-6536          1\n",
      "4   TCGA-5M-AAT5          1\n",
      "5   TCGA-CM-6679          0\n",
      "7   TCGA-5M-AATE          1\n",
      "8   TCGA-DM-A28G          1\n",
      "10  TCGA-CK-6746          0\n",
      "16  TCGA-AA-A022          1\n",
      "17  TCGA-AA-3555          1\n",
      "18  TCGA-A6-2676          1\n",
      "19  TCGA-DM-A1DB          1\n",
      "20  TCGA-DM-A282          1\n",
      "23  TCGA-AA-A00K          1\n",
      "24  TCGA-CK-5913          0\n",
      "26  TCGA-AA-A01Q          1\n",
      "27  TCGA-CA-6717          0\n",
      "30  TCGA-DM-A28K          1\n",
      "34  TCGA-DM-A1D8          1\n",
      "36  TCGA-AA-3655          1\n",
      "37  TCGA-G4-6626          1\n",
      "38  TCGA-A6-6141          1\n",
      "40  TCGA-DM-A0XD          1\n",
      "41  TCGA-EI-6507          0\n",
      "47  TCGA-AH-6544          1\n",
      "52  TCGA-EI-6506          0\n",
      "56  TCGA-CL-5918          0\n",
      "\n",
      "Late Stage PatientIDs:\n",
      "       PatientID  g0_arrest\n",
      "1   TCGA-AZ-6600          0\n",
      "9   TCGA-5M-AAT4          1\n",
      "11  TCGA-AA-A02E          0\n",
      "12  TCGA-A6-A567          0\n",
      "13  TCGA-AA-3684          0\n",
      "14  TCGA-D5-6926          0\n",
      "15  TCGA-DM-A285          1\n",
      "25  TCGA-A6-2674          0\n",
      "31  TCGA-AA-A00Q          1\n",
      "32  TCGA-G4-6315          1\n",
      "33  TCGA-A6-2672          0\n",
      "35  TCGA-AZ-4616          0\n",
      "39  TCGA-AA-3679          0\n",
      "42  TCGA-AG-A032          1\n",
      "43  TCGA-DC-5869          0\n",
      "45  TCGA-EI-6508          1\n",
      "46  TCGA-DC-4745          0\n",
      "48  TCGA-AG-3909          1\n",
      "49  TCGA-AG-3727          1\n",
      "50  TCGA-AG-3583          1\n",
      "51  TCGA-AG-4021          1\n",
      "53  TCGA-AF-2690          0\n",
      "55  TCGA-AH-6643          0\n"
     ]
    }
   ],
   "source": [
    "early_stage_mask = (\n",
    "    (test_df['Pathologic Stage_Stage II'] == 1) |\n",
    "    (test_df['Pathologic Stage_Stage IIA'] == 1) |\n",
    "    (test_df['Pathologic Stage_Stage IIB'] == 1)\n",
    ")\n",
    "\n",
    "# Get Early Stage Patient IDs\n",
    "early_stage_patient_ids = test_df.loc[early_stage_mask,  ['PatientID', 'g0_arrest']].drop_duplicates()\n",
    "\n",
    "# Create a mask for Late Stage Patients\n",
    "late_stage_mask = (\n",
    "    (test_df['Pathologic Stage_Stage III'] == 1) |\n",
    "    (test_df['Pathologic Stage_Stage IIIB'] == 1) |\n",
    "    (test_df['Pathologic Stage_Stage IIIC'] == 1) |\n",
    "    (test_df['Pathologic Stage_Stage IV'] == 1) |\n",
    "    (test_df['Pathologic Stage_Stage IVA'] == 1)\n",
    ")\n",
    "\n",
    "# Get Late Stage Patient IDs\n",
    "late_stage_patient_ids = test_df.loc[late_stage_mask, ['PatientID', 'g0_arrest']].drop_duplicates()\n",
    "\n",
    "# Output the results\n",
    "print(\"Early Stage PatientIDs:\")\n",
    "print(early_stage_patient_ids)\n",
    "\n",
    "print(\"\\nLate Stage PatientIDs:\")\n",
    "print(late_stage_patient_ids)\n",
    "\n",
    "# Combine early and late stage patient IDs with their labels\n",
    "combined_df = pd.concat([early_stage_patient_ids, late_stage_patient_ids])\n",
    "\n",
    "# Create a new column to indicate the stage\n",
    "combined_df['Stage'] = combined_df.apply(\n",
    "    lambda row: 'Early' if row['PatientID'] in (early_stage_patient_ids['PatientID'].values) else 'Late',\n",
    "    axis=1\n",
    ")"
   ]
  },
  {
   "cell_type": "code",
   "execution_count": 46,
   "metadata": {},
   "outputs": [
    {
     "name": "stdout",
     "output_type": "stream",
     "text": [
      "(50, 3)\n",
      "      PatientID  g0_arrest  Stage\n",
      "0  TCGA-AD-6963          0  Early\n",
      "2  TCGA-AY-6197          0  Early\n",
      "3  TCGA-D5-6536          1  Early\n",
      "4  TCGA-5M-AAT5          1  Early\n",
      "5  TCGA-CM-6679          0  Early\n",
      "       PatientID  g0_arrest Stage\n",
      "49  TCGA-AG-3727          1  Late\n",
      "50  TCGA-AG-3583          1  Late\n",
      "51  TCGA-AG-4021          1  Late\n",
      "53  TCGA-AF-2690          0  Late\n",
      "55  TCGA-AH-6643          0  Late\n"
     ]
    }
   ],
   "source": [
    "print(combined_df.shape)\n",
    "print(combined_df.head())\n",
    "print(combined_df.tail())"
   ]
  },
  {
   "cell_type": "code",
   "execution_count": 57,
   "metadata": {},
   "outputs": [
    {
     "data": {
      "text/html": [
       "<div>\n",
       "<style scoped>\n",
       "    .dataframe tbody tr th:only-of-type {\n",
       "        vertical-align: middle;\n",
       "    }\n",
       "\n",
       "    .dataframe tbody tr th {\n",
       "        vertical-align: top;\n",
       "    }\n",
       "\n",
       "    .dataframe thead th {\n",
       "        text-align: right;\n",
       "    }\n",
       "</style>\n",
       "<table border=\"1\" class=\"dataframe\">\n",
       "  <thead>\n",
       "    <tr style=\"text-align: right;\">\n",
       "      <th></th>\n",
       "      <th>PatientID</th>\n",
       "      <th>g0_arrest</th>\n",
       "    </tr>\n",
       "  </thead>\n",
       "  <tbody>\n",
       "    <tr>\n",
       "      <th>6</th>\n",
       "      <td>TCGA-AZ-5407</td>\n",
       "      <td>1</td>\n",
       "    </tr>\n",
       "    <tr>\n",
       "      <th>21</th>\n",
       "      <td>TCGA-AA-3549</td>\n",
       "      <td>0</td>\n",
       "    </tr>\n",
       "    <tr>\n",
       "      <th>22</th>\n",
       "      <td>TCGA-AA-3854</td>\n",
       "      <td>1</td>\n",
       "    </tr>\n",
       "    <tr>\n",
       "      <th>28</th>\n",
       "      <td>TCGA-CM-5864</td>\n",
       "      <td>1</td>\n",
       "    </tr>\n",
       "    <tr>\n",
       "      <th>29</th>\n",
       "      <td>TCGA-AA-3877</td>\n",
       "      <td>0</td>\n",
       "    </tr>\n",
       "    <tr>\n",
       "      <th>44</th>\n",
       "      <td>TCGA-AG-3726</td>\n",
       "      <td>1</td>\n",
       "    </tr>\n",
       "    <tr>\n",
       "      <th>54</th>\n",
       "      <td>TCGA-DC-6158</td>\n",
       "      <td>0</td>\n",
       "    </tr>\n",
       "    <tr>\n",
       "      <th>57</th>\n",
       "      <td>TCGA-AF-6655</td>\n",
       "      <td>0</td>\n",
       "    </tr>\n",
       "  </tbody>\n",
       "</table>\n",
       "</div>"
      ],
      "text/plain": [
       "       PatientID  g0_arrest\n",
       "6   TCGA-AZ-5407          1\n",
       "21  TCGA-AA-3549          0\n",
       "22  TCGA-AA-3854          1\n",
       "28  TCGA-CM-5864          1\n",
       "29  TCGA-AA-3877          0\n",
       "44  TCGA-AG-3726          1\n",
       "54  TCGA-DC-6158          0\n",
       "57  TCGA-AF-6655          0"
      ]
     },
     "execution_count": 57,
     "metadata": {},
     "output_type": "execute_result"
    }
   ],
   "source": [
    "pids = [pid for pid in test_df['PatientID'] if pid not in combined_df['PatientID'].values]\n",
    "test_df[test_df['PatientID'].isin(pids)].loc[:, ['PatientID', 'g0_arrest']]"
   ]
  },
  {
   "cell_type": "code",
   "execution_count": 33,
   "metadata": {},
   "outputs": [
    {
     "data": {
      "image/png": "[encoded data removed]",
      "text/plain": [
       "<Figure size 1200x1000 with 1 Axes>"
      ]
     },
     "metadata": {},
     "output_type": "display_data"
    }
   ],
   "source": [
    "\n",
    "\n",
    "# Set the aesthetics for the plot\n",
    "plt.figure(figsize=(12, 10))\n",
    "sns.set_theme(style=\"whitegrid\")\n",
    "\n",
    "# Create a count plot to visualize the distribution of G0-arrest labels per pathologic stage\n",
    "sns.countplot(x='g0_arrest', hue='Stage', data=combined_df, palette='pastel')\n",
    "\n",
    "# Customize the plot with titles and labels\n",
    "plt.title('Distribution of G0-arrest Labels per Pathologic Stage', fontsize=16)\n",
    "plt.xlabel('G0-arrest Label', fontsize=14)\n",
    "plt.ylabel('Absolute Count', fontsize=14)\n",
    "plt.legend(title='Stage', fontsize=12)\n",
    "plt.xticks(rotation=45, ha='right', fontsize=12)\n",
    "plt.tight_layout()\n",
    "\n",
    "# Show the plot\n",
    "plt.show()"
   ]
  },
  {
   "cell_type": "code",
   "execution_count": null,
   "metadata": {},
   "outputs": [],
   "source": []
  },
  {
   "cell_type": "code",
   "execution_count": null,
   "metadata": {},
   "outputs": [],
   "source": []
  },
  {
   "cell_type": "code",
   "execution_count": null,
   "metadata": {},
   "outputs": [],
   "source": []
  },
  {
   "cell_type": "code",
   "execution_count": null,
   "metadata": {},
   "outputs": [],
   "source": []
  }
 ],
 "metadata": {
  "kernelspec": {
   "display_name": "biomedai",
   "language": "python",
   "name": "python3"
  },
  "language_info": {
   "codemirror_mode": {
    "name": "ipython",
    "version": 3
   },
   "file_extension": ".py",
   "mimetype": "text/x-python",
   "name": "python",
   "nbconvert_exporter": "python",
   "pygments_lexer": "ipython3",
   "version": "3.9.18"
  }
 },
 "nbformat": 4,
 "nbformat_minor": 2
}
