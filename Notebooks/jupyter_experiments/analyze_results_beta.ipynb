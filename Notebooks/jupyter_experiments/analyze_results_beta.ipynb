{
 "cells": [
  {
   "cell_type": "code",
   "execution_count": 1,
   "metadata": {},
   "outputs": [],
   "source": [
    "import numpy as np\n",
    "import matplotlib.pyplot as plt\n",
    "import wandb\n",
    "import pdb\n",
    "from adjustText import adjust_text\n",
    "import pandas as pd\n",
    "import os"
   ]
  },
  {
   "cell_type": "code",
   "execution_count": 6,
   "metadata": {},
   "outputs": [],
   "source": [
    "def get_val_metrics(runs, index=0, exclude_keyword='ignore'):\n",
    "    run_f1_scores = {}\n",
    "    run_auroc_val_scores = {}\n",
    "    \n",
    "    for run in runs:\n",
    "        # print(run.name)\n",
    "        if exclude_keyword.lower() not in run.name.lower():\n",
    "\n",
    "            history = run.history(pandas=True)\n",
    "            # pdb.set_trace()\n",
    "            # print(run.id)\n",
    "            # pdb.set_trace()\n",
    "            val_f1_scores = history['f1_val'].dropna().tolist()\n",
    "            auroc_val_scores = history['auroc_val'].dropna().tolist()\n",
    "            \n",
    "            run_f1_scores[run.id] = val_f1_scores\n",
    "            run_auroc_val_scores[run.id] = auroc_val_scores\n",
    "    \n",
    "    # mean_f1_scores = [f1_scores[index] for f1_scores in run_f1_scores.values()]\n",
    "    # mean_auroc_val_scores = [auroc_val_scores[index] for auroc_val_scores in run_auroc_val_scores.values()]\n",
    "    \n",
    "    # overall_mean_f1 = np.mean(mean_f1_scores)\n",
    "    # overall_std_f1 = np.std(mean_f1_scores)\n",
    "    \n",
    "    # overall_mean_auroc_val = np.mean(mean_auroc_val_scores)\n",
    "    # overall_std_auroc_val = np.std(mean_auroc_val_scores)\n",
    "    \n",
    "    # print(f\"Mean F1 score for the {index}th epoch across all runs: {overall_mean_f1:.4f}\")\n",
    "    # print(f\"Std. F1 score for the {index}th epoch across all runs: {overall_std_f1:.4f}\")\n",
    "    \n",
    "    # print(f\"Mean AUROC VAL score for the {index}th epoch across all runs: {overall_mean_auroc_val:.4f}\")\n",
    "    # print(f\"Std. AUROC VAL score for the {index}th epoch across all runs: {overall_std_auroc_val:.4f}\")\n",
    "    return list(run_f1_scores.values()), list(run_auroc_val_scores.values())\n",
    "\n",
    "def get_val_metrics_scan(runs, index=0, exclude_keyword='ignore'):\n",
    "    run_f1_scores = {}\n",
    "    run_auroc_val_scores = {}\n",
    "    \n",
    "    for run in runs:\n",
    "        if exclude_keyword.lower() not in run.name.lower():\n",
    "            # Use scan_history() instead of history()\n",
    "            history_data = []\n",
    "            for row in run.scan_history(keys=[\"f1_val\", \"auroc_val\"]):\n",
    "                history_data.append(row)\n",
    "            \n",
    "            # Convert to DataFrame\n",
    "            history = pd.DataFrame(history_data)\n",
    "            \n",
    "            val_f1_scores = history['f1_val'].dropna().tolist()\n",
    "            auroc_val_scores = history['auroc_val'].dropna().tolist()\n",
    "            \n",
    "            run_f1_scores[run.id] = val_f1_scores\n",
    "            run_auroc_val_scores[run.id] = auroc_val_scores\n",
    "    \n",
    "    return list(run_f1_scores.values()), list(run_auroc_val_scores.values())\n",
    "\n",
    "def get_mean_std_per_agg(scores):\n",
    "    means = [np.mean([sublist[i] for sublist in scores]) for i in range(len(scores[0]))]\n",
    "    stds = [np.std([sublist[i] for sublist in scores]) for i in range(len(scores[0]))]\n",
    "    return np.max(means), stds[np.argmax(means)], np.argmax(means)\n",
    "\n",
    "def get_max(scores):\n",
    "    max_per_fold = [np.max(fold) for fold in scores]\n",
    "    max_epochs = [np.argmax(fold) for fold in scores]\n",
    "    return max_per_fold, max_epochs\n",
    "\n",
    "MDL_COLOR = {\n",
    "    'resnet50':'r',\n",
    "    'uni':'b',\n",
    "    'gigapath': 'g'\n",
    "}\n",
    "\n",
    "def plot_results(uni_res, resnet_res, gigapath_res, title, colors=MDL_COLOR):\n",
    "    # Create the x-axis values\n",
    "    \n",
    "\n",
    "    # Create the figure and axis\n",
    "    fig, ax = plt.subplots(figsize=(15, 10), dpi=150)\n",
    "\n",
    "    resnet50_means, resnet50_stds = resnet_res\n",
    "    uni_means, uni_stds = uni_res\n",
    "    gigapath_means, gigapath_stds = gigapath_res\n",
    "    \n",
    "    x = range(0, len(resnet50_means))\n",
    "    # Plot the mean with error bars\n",
    "    ax.errorbar(x, resnet50_means, yerr=resnet50_stds, fmt='o', capsize=5, color=colors['resnet50'])\n",
    "    ax.errorbar(x, uni_means, yerr=uni_stds, fmt='x', capsize=5, color=colors['uni'])\n",
    "    ax.errorbar(x, gigapath_means, yerr=gigapath_stds, fmt='s', capsize=5, color=colors['gigapath'])\n",
    "\n",
    "    # Connect the mean values with lines\n",
    "    ax.plot(x, resnet50_means, linestyle='-', color=colors['resnet50'], label='resnet50')\n",
    "    ax.plot(x, uni_means, linestyle='--', color=colors['uni'], label='uni')\n",
    "    ax.plot(x, gigapath_means, linestyle='-.', color=colors['gigapath'], label='gigapath')\n",
    "    # Create text annotations\n",
    "    texts = []\n",
    "    # for i in x:\n",
    "    #     resnet_label = f'{resnet50_means[i]:.2f} ± {resnet50_stds[i]:.2f}'\n",
    "    #     uni_label = f'{uni_means[i]:.2f} ± {uni_stds[i]:.2f}'\n",
    "    #     gigapath_label = f'{gigapath_means[i]:.2f} ± {gigapath_stds[i]:.2f}'\n",
    "        \n",
    "    #     texts.append(ax.text(i, resnet50_means[i], resnet_label, color='r', ha='center', va='bottom'))\n",
    "    #     texts.append(ax.text(i, uni_means[i], uni_label, color='b', ha='center', va='bottom'))\n",
    "    #     texts.append(ax.text(i, gigapath_means[i], gigapath_label, color='g', ha='center', va='bottom'))\n",
    "    # Identify significant points to annotate\n",
    "    significant_indices = [0]  # First and last points\n",
    "\n",
    "    # Find the highest point for each array\n",
    "    highest_resnet50_index = np.argmax(resnet50_means) # max(range(len(resnet50_means)), key=lambda i: resnet50_means[i])\n",
    "    highest_uni_index = np.argmax(uni_means) # max(range(len(uni_means)), key=lambda i: uni_means[i])\n",
    "    highest_gigapath_index = np.argmax(gigapath_means) # max(range(len(gigapath_means)), key=lambda i: gigapath_means[i])\n",
    "    # pdb.set_trace()\n",
    "    # # Add the highest indices to the significant indices\n",
    "    # significant_indices.extend([highest_resnet50_index, highest_uni_index, highest_gigapath_index])\n",
    "\n",
    "    # Create text annotations for significant points only\n",
    "    texts = []\n",
    "    for i in significant_indices:\n",
    "        resnet_label = f'{resnet50_means[i]:.2f} ± {resnet50_stds[i]:.2f}'\n",
    "        uni_label = f'{uni_means[i]:.2f} ± {uni_stds[i]:.2f}'\n",
    "        gigapath_label = f'{gigapath_means[i]:.2f} ± {gigapath_stds[i]:.2f}'\n",
    "        \n",
    "        texts.append(ax.text(i, resnet50_means[i], resnet_label, color=colors['resnet50'], ha='center', va='bottom', fontsize=13))\n",
    "        texts.append(ax.text(i, uni_means[i], uni_label, color=colors['uni'], ha='center', va='bottom', fontsize=13))\n",
    "        texts.append(ax.text(i, gigapath_means[i], gigapath_label, color=colors['gigapath'], ha='center', va='bottom', fontsize=13))\n",
    "    \n",
    "    ### plot highest points\n",
    "    texts.append(ax.text(highest_resnet50_index, resnet50_means[highest_resnet50_index],  f'{resnet50_means[highest_resnet50_index]:.2f} ± {resnet50_stds[highest_resnet50_index]:.2f}', color=colors['resnet50'], ha='center', va='bottom', fontweight='bold', fontsize=13))\n",
    "    texts.append(ax.text(highest_uni_index, uni_means[highest_uni_index], f'{uni_means[highest_uni_index]:.2f} ± {uni_stds[highest_uni_index]:.2f}', color=colors['uni'], ha='center', va='bottom', fontweight='bold', fontsize=13))\n",
    "    texts.append(ax.text(highest_gigapath_index, gigapath_means[highest_gigapath_index], f'{gigapath_means[highest_gigapath_index]:.2f} ± {gigapath_stds[highest_gigapath_index]:.2f}', color=colors['gigapath'], ha='center', va='bottom', fontweight='bold', fontsize=13))\n",
    "\n",
    "\n",
    "    adjust_text(texts, arrowprops=dict(arrowstyle='->', color='k', lw=1.5))\n",
    "    # Add labels for the mean values\n",
    "    ax.legend()\n",
    "\n",
    "    # Set the axis labels and title\n",
    "    ax.set_xlabel('Epoch', fontsize=16)\n",
    "    ax.set_ylabel('Avg. cross-validation score', fontsize=16)\n",
    "    ax.set_title(f'{title}', fontsize=20)\n",
    "\n",
    "    # Set the x-axis ticks\n",
    "    ax.set_xticks(x)\n",
    "    plt.xticks(fontsize=12)              # Increase x-tick label font size\n",
    "    plt.yticks(fontsize=12)     \n",
    "    ax.grid(True, linestyle='--', alpha=0.85)\n",
    "    # Show the plot\n",
    "    plt.show()\n",
    "\n",
    "def plot_results_no_gigapath(uni_res, resnet_res, gigapath_res, title, colors=MDL_COLOR):\n",
    "    # Create the x-axis values\n",
    "    \n",
    "\n",
    "    # Create the figure and axis\n",
    "    fig, ax = plt.subplots(figsize=(15, 10), dpi=150)\n",
    "\n",
    "    resnet50_means, resnet50_stds = resnet_res\n",
    "    uni_means, uni_stds = uni_res\n",
    "    gigapath_means, gigapath_stds = gigapath_res\n",
    "    \n",
    "    x = range(0, len(resnet50_means))\n",
    "    # Plot the mean with error bars\n",
    "    ax.errorbar(x, resnet50_means, yerr=resnet50_stds, fmt='o', capsize=5, color=colors['resnet50'])\n",
    "    ax.errorbar(x, uni_means, yerr=uni_stds, fmt='x', capsize=5, color=colors['uni'])\n",
    "    # ax.errorbar(x, gigapath_means, yerr=gigapath_stds, fmt='s', capsize=5, color=colors['gigapath'])\n",
    "\n",
    "    # Connect the mean values with lines\n",
    "    ax.plot(x, resnet50_means, linestyle='-', color=colors['resnet50'], label='resnet50')\n",
    "    ax.plot(x, uni_means, linestyle='--', color=colors['uni'], label='uni')\n",
    "    # ax.plot(x, gigapath_means, linestyle='-.', color=colors['gigapath'], label='gigapath')\n",
    "    # Create text annotations\n",
    "    texts = []\n",
    "    \n",
    "    significant_indices = [0]  # First and last points\n",
    "\n",
    "    # Find the highest point for each array\n",
    "    highest_resnet50_index = np.argmax(resnet50_means) # max(range(len(resnet50_means)), key=lambda i: resnet50_means[i])\n",
    "    highest_uni_index = np.argmax(uni_means) # max(range(len(uni_means)), key=lambda i: uni_means[i])\n",
    "    # highest_gigapath_index = np.argmax(gigapath_means) # max(range(len(gigapath_means)), key=lambda i: gigapath_means[i])\n",
    "    # pdb.set_trace()\n",
    "    # # Add the highest indices to the significant indices\n",
    "    # significant_indices.extend([highest_resnet50_index, highest_uni_index, highest_gigapath_index])\n",
    "\n",
    "    # Create text annotations for significant points only\n",
    "    texts = []\n",
    "    for i in significant_indices:\n",
    "        resnet_label = f'{resnet50_means[i]:.2f} ± {resnet50_stds[i]:.2f}'\n",
    "        uni_label = f'{uni_means[i]:.2f} ± {uni_stds[i]:.2f}'\n",
    "        # gigapath_label = f'{gigapath_means[i]:.2f} ± {gigapath_stds[i]:.2f}'\n",
    "        \n",
    "        texts.append(ax.text(i, resnet50_means[i], resnet_label, color=colors['resnet50'], ha='center', va='bottom', fontsize=13))\n",
    "        texts.append(ax.text(i, uni_means[i], uni_label, color=colors['uni'], ha='center', va='bottom', fontsize=13))\n",
    "        # texts.append(ax.text(i, gigapath_means[i], gigapath_label, color=colors['gigapath'], ha='center', va='bottom', fontsize=13))\n",
    "    \n",
    "    ### plot highest points\n",
    "    texts.append(ax.text(highest_resnet50_index, resnet50_means[highest_resnet50_index],  f'{resnet50_means[highest_resnet50_index]:.2f} ± {resnet50_stds[highest_resnet50_index]:.2f}', color=colors['resnet50'], ha='center', va='bottom', fontweight='bold', fontsize=13))\n",
    "    texts.append(ax.text(highest_uni_index, uni_means[highest_uni_index], f'{uni_means[highest_uni_index]:.2f} ± {uni_stds[highest_uni_index]:.2f}', color=colors['uni'], ha='center', va='bottom', fontweight='bold', fontsize=13))\n",
    "    # texts.append(ax.text(highest_gigapath_index, gigapath_means[highest_gigapath_index], f'{gigapath_means[highest_gigapath_index]:.2f} ± {gigapath_stds[highest_gigapath_index]:.2f}', color=colors['gigapath'], ha='center', va='bottom', fontweight='bold', fontsize=13))\n",
    "\n",
    "\n",
    "    adjust_text(texts, arrowprops=dict(arrowstyle='->', color='k', lw=1.5))\n",
    "    # Add labels for the mean values\n",
    "    ax.legend()\n",
    "\n",
    "    # Set the axis labels and title\n",
    "    ax.set_xlabel('Epoch', fontsize=16)\n",
    "    ax.set_ylabel('Avg. cross-validation score', fontsize=16)\n",
    "    ax.set_title(f'{title}', fontsize=20)\n",
    "\n",
    "    # Set the x-axis ticks\n",
    "    ax.set_xticks(x)\n",
    "    plt.xticks(fontsize=12)              # Increase x-tick label font size\n",
    "    plt.yticks(fontsize=12)     \n",
    "    ax.grid(True, linestyle='--', alpha=0.85)\n",
    "    # Show the plot\n",
    "    plt.show()\n",
    "\n",
    "def plot_results_only_uni(uni_res, resnet_res, gigapath_res, title, colors=MDL_COLOR):\n",
    "    # Create the x-axis values\n",
    "    \n",
    "\n",
    "    # Create the figure and axis\n",
    "    fig, ax = plt.subplots(figsize=(15, 10), dpi=150)\n",
    "\n",
    "    resnet50_means, resnet50_stds = resnet_res\n",
    "    uni_means, uni_stds = uni_res\n",
    "    gigapath_means, gigapath_stds = gigapath_res\n",
    "    \n",
    "    x = range(0, len(resnet50_means))\n",
    "    # Plot the mean with error bars\n",
    "    # ax.errorbar(x, resnet50_means, yerr=resnet50_stds, fmt='o', capsize=5, color=colors['resnet50'])\n",
    "    ax.errorbar(x, uni_means, yerr=uni_stds, fmt='x', capsize=5, color=colors['uni'])\n",
    "    # ax.errorbar(x, gigapath_means, yerr=gigapath_stds, fmt='s', capsize=5, color=colors['gigapath'])\n",
    "\n",
    "    # Connect the mean values with lines\n",
    "    # ax.plot(x, resnet50_means, linestyle='-', color=colors['resnet50'], label='resnet50')\n",
    "    ax.plot(x, uni_means, linestyle='--', color=colors['uni'], label='uni')\n",
    "    # ax.plot(x, gigapath_means, linestyle='-.', color=colors['gigapath'], label='gigapath')\n",
    "    # Create text annotations\n",
    "    texts = []\n",
    "    # for i in x:\n",
    "    #     resnet_label = f'{resnet50_means[i]:.2f} ± {resnet50_stds[i]:.2f}'\n",
    "    #     uni_label = f'{uni_means[i]:.2f} ± {uni_stds[i]:.2f}'\n",
    "    #     gigapath_label = f'{gigapath_means[i]:.2f} ± {gigapath_stds[i]:.2f}'\n",
    "        \n",
    "    #     texts.append(ax.text(i, resnet50_means[i], resnet_label, color='r', ha='center', va='bottom'))\n",
    "    #     texts.append(ax.text(i, uni_means[i], uni_label, color='b', ha='center', va='bottom'))\n",
    "    #     texts.append(ax.text(i, gigapath_means[i], gigapath_label, color='g', ha='center', va='bottom'))\n",
    "    # Identify significant points to annotate\n",
    "    significant_indices = [0]  # First and last points\n",
    "\n",
    "    # Find the highest point for each array\n",
    "    # highest_resnet50_index = np.argmax(resnet50_means) # max(range(len(resnet50_means)), key=lambda i: resnet50_means[i])\n",
    "    highest_uni_index = np.argmax(uni_means) # max(range(len(uni_means)), key=lambda i: uni_means[i])\n",
    "    # highest_gigapath_index = np.argmax(gigapath_means) # max(range(len(gigapath_means)), key=lambda i: gigapath_means[i])\n",
    "    # pdb.set_trace()\n",
    "    # # Add the highest indices to the significant indices\n",
    "    # significant_indices.extend([highest_resnet50_index, highest_uni_index, highest_gigapath_index])\n",
    "\n",
    "    # Create text annotations for significant points only\n",
    "    texts = []\n",
    "    for i in significant_indices:\n",
    "        # resnet_label = f'{resnet50_means[i]:.2f} ± {resnet50_stds[i]:.2f}'\n",
    "        uni_label = f'{uni_means[i]:.2f} ± {uni_stds[i]:.2f}'\n",
    "        # gigapath_label = f'{gigapath_means[i]:.2f} ± {gigapath_stds[i]:.2f}'\n",
    "        \n",
    "        # texts.append(ax.text(i, resnet50_means[i], resnet_label, color=colors['resnet50'], ha='center', va='bottom', fontsize=13))\n",
    "        texts.append(ax.text(i, uni_means[i], uni_label, color=colors['uni'], ha='center', va='bottom', fontsize=13))\n",
    "        # texts.append(ax.text(i, gigapath_means[i], gigapath_label, color=colors['gigapath'], ha='center', va='bottom', fontsize=13))\n",
    "    \n",
    "    ### plot highest points\n",
    "    # texts.append(ax.text(highest_resnet50_index, resnet50_means[highest_resnet50_index],  f'{resnet50_means[highest_resnet50_index]:.2f} ± {resnet50_stds[highest_resnet50_index]:.2f}', color=colors['resnet50'], ha='center', va='bottom', fontweight='bold', fontsize=13))\n",
    "    texts.append(ax.text(highest_uni_index, uni_means[highest_uni_index], f'{uni_means[highest_uni_index]:.2f} ± {uni_stds[highest_uni_index]:.2f}', color=colors['uni'], ha='center', va='bottom', fontweight='bold', fontsize=13))\n",
    "    # texts.append(ax.text(highest_gigapath_index, gigapath_means[highest_gigapath_index], f'{gigapath_means[highest_gigapath_index]:.2f} ± {gigapath_stds[highest_gigapath_index]:.2f}', color=colors['gigapath'], ha='center', va='bottom', fontweight='bold', fontsize=13))\n",
    "\n",
    "\n",
    "    adjust_text(texts, arrowprops=dict(arrowstyle='->', color='k', lw=1.5))\n",
    "    # Add labels for the mean values\n",
    "    ax.legend()\n",
    "\n",
    "    # Set the axis labels and title\n",
    "    ax.set_xlabel('Epoch', fontsize=16)\n",
    "    ax.set_ylabel('Avg. cross-validation score', fontsize=16)\n",
    "    ax.set_title(f'{title}', fontsize=20)\n",
    "\n",
    "    # Set the x-axis ticks\n",
    "    ax.set_xticks(x)\n",
    "    plt.xticks(fontsize=12)              # Increase x-tick label font size\n",
    "    plt.yticks(fontsize=12)     \n",
    "    ax.grid(True, linestyle='--', alpha=0.85)\n",
    "    # Show the plot\n",
    "    plt.show()"
   ]
  },
  {
   "cell_type": "code",
   "execution_count": 27,
   "metadata": {},
   "outputs": [
    {
     "data": {
      "image/png": "[encoded data removed]",
      "text/plain": [
       "<Figure size 1400x800 with 1 Axes>"
      ]
     },
     "metadata": {},
     "output_type": "display_data"
    }
   ],
   "source": [
    "import matplotlib.pyplot as plt\n",
    "import numpy as np\n",
    "\n",
    "# Sample data: replace with your actual F1-scores\n",
    "models = ['Model 1', 'Model 2', 'Model 3', 'Model 4', 'Model 5', 'Model 6', 'Model 7']\n",
    "feature_encoders = ['ResNet50', 'Uni', 'GigaPath']\n",
    "colors = ['red', 'green', 'blue']\n",
    "\n",
    "# Randomly generated F1-scores for demonstration; replace with your actual F1-scores\n",
    "# np.random.seed(0)\n",
    "f1_scores = {\n",
    "    'Model 1': [\n",
    "        [0.703, 0.691, 0.707, 0.672, 0.677],\n",
    "        [0.690, 0.735, 0.673, 0.660, 0.684],\n",
    "        [0.750, 0.716, 0.714, 0.642, 0.684]\n",
    "    ],\n",
    "    'Model 2': [\n",
    "        [0.710, 0.695, 0.705, 0.675, 0.680],\n",
    "        [0.695, 0.740, 0.670, 0.665, 0.690],\n",
    "        [0.755, 0.720, 0.710, 0.645, 0.680]\n",
    "    ],\n",
    "    'Model 3': [\n",
    "        [0.715, 0.700, 0.710, 0.680, 0.685],\n",
    "        [0.700, 0.745, 0.675, 0.670, 0.695],\n",
    "        [0.760, 0.725, 0.715, 0.650, 0.685]\n",
    "    ],\n",
    "    'Model 4': [\n",
    "        [0.720, 0.705, 0.715, 0.685, 0.690],\n",
    "        [0.705, 0.750, 0.680, 0.675, 0.700],\n",
    "        [0.765, 0.730, 0.720, 0.655, 0.690]\n",
    "    ],\n",
    "    'Model 5': [\n",
    "        [0.725, 0.710, 0.720, 0.690, 0.695],\n",
    "        [0.710, 0.755, 0.685, 0.680, 0.705],\n",
    "        [0.770, 0.735, 0.725, 0.660, 0.695]\n",
    "    ],\n",
    "    'Model 6': [\n",
    "        [0.730, 0.715, 0.725, 0.695, 0.700],\n",
    "        [0.715, 0.760, 0.690, 0.685, 0.710],\n",
    "        [0.775, 0.740, 0.730, 0.665, 0.700]\n",
    "    ],\n",
    "    'Model 7': [\n",
    "        [0.735, 0.720, 0.730, 0.700, 0.705],\n",
    "        [0.720, 0.765, 0.695, 0.690, 0.715],\n",
    "        [0.780, 0.745, 0.735, 0.670, 0.705]\n",
    "    ]\n",
    "}\n",
    "\n",
    "# Prepare data for plotting\n",
    "data = []\n",
    "positions = []\n",
    "for i, model in enumerate(models):\n",
    "    for j, encoder in enumerate(feature_encoders):\n",
    "        data.append(f1_scores[model][j])\n",
    "        positions.append(i * (len(feature_encoders) + 1) + j + 1)\n",
    "\n",
    "# Create grouped box plots\n",
    "fig, ax = plt.subplots(figsize=(14, 8))\n",
    "\n",
    "# Create the box plot\n",
    "boxplot = ax.boxplot(data, positions=positions, patch_artist=True, widths=0.6)\n",
    "\n",
    "# Color the box plots\n",
    "for patch, color in zip(boxplot['boxes'], colors * len(models)):\n",
    "    patch.set_facecolor(color)\n",
    "\n",
    "# Set the x-axis labels\n",
    "ax.set_xticks([i * (len(feature_encoders) + 1) + 1.5 for i in range(len(models))])\n",
    "ax.set_xticklabels(models)\n",
    "\n",
    "# Add legend\n",
    "for i, color in enumerate(colors):\n",
    "    ax.plot([], c=color, label=feature_encoders[i])\n",
    "ax.legend()\n",
    "\n",
    "# Labels and title\n",
    "ax.set_title('Best Cross-Validation F1-Scores per Feature Encoders Across MIL Algorithms')\n",
    "ax.set_xlabel('Models')\n",
    "ax.set_ylabel('F1-Score')\n",
    "\n",
    "plt.show()\n"
   ]
  },
  {
   "cell_type": "code",
   "execution_count": 25,
   "metadata": {},
   "outputs": [
    {
     "data": {
      "text/plain": [
       "[0, 1, 2, 4, 5, 6]"
      ]
     },
     "execution_count": 25,
     "metadata": {},
     "output_type": "execute_result"
    }
   ],
   "source": [
    "positions"
   ]
  },
  {
   "cell_type": "code",
   "execution_count": 3,
   "metadata": {},
   "outputs": [
    {
     "name": "stderr",
     "output_type": "stream",
     "text": [
      "Failed to detect the name of this notebook, you can set it manually with the WANDB_NOTEBOOK_NAME environment variable to enable code saving.\n"
     ]
    },
    {
     "data": {
      "text/plain": []
     },
     "execution_count": 3,
     "metadata": {},
     "output_type": "execute_result"
    }
   ],
   "source": [
    "wandb.init(mode='disabled')"
   ]
  },
  {
   "cell_type": "markdown",
   "metadata": {},
   "source": [
    "# transformer"
   ]
  },
  {
   "cell_type": "code",
   "execution_count": 4,
   "metadata": {},
   "outputs": [],
   "source": [
    "entity = 'cell-x'\n",
    "project = 'g0-arrest-uni-cv5'\n",
    "runs1 = wandb.Api().runs(f\"{entity}/{project}\")\n",
    "entity = 'cell-x'\n",
    "project = 'g0-arrest-resnet50-cv5'\n",
    "runs2 =  wandb.Api().runs(f\"{entity}/{project}\")\n",
    "entity = 'cell-x'\n",
    "project = 'g0-arrest-gigapath-cv5'\n",
    "runs3 =  wandb.Api().runs(f\"{entity}/{project}\")\n"
   ]
  },
  {
   "cell_type": "code",
   "execution_count": 5,
   "metadata": {},
   "outputs": [],
   "source": [
    "uni_f1_scores, uni_aurocval_scores = get_val_metrics(runs=runs1, index=8)\n",
    "resnet50_f1_scores, resnet50_aurocval_scores = get_val_metrics(runs=runs2, index=8)\n",
    "gigapath_f1_scores, gigapath_aurocval_scores = get_val_metrics(runs=runs3, index=8)\n"
   ]
  },
  {
   "cell_type": "code",
   "execution_count": 7,
   "metadata": {},
   "outputs": [],
   "source": [
    "# transformer_resnet50_f1, transformer_resnet50_f1_std, transformer_resnet50_epoch = get_mean_std_per_agg(resnet50_f1_scores)\n",
    "# transformer_uni_f1, transformer_uni_f1_std, transformer_uni_epoch = get_mean_std_per_agg(uni_f1_scores)\n",
    "# transformer_gigapath_f1, transformer_gigapath_f1_std, transformer_gigapath_epoch = get_mean_std_per_agg(gigapath_f1_scores)\n",
    "\n",
    "transformer_resnet50_f1, transformer_resnet50_epoch = get_max(resnet50_f1_scores)\n",
    "transformer_uni_f1, transformer_uni_epoch = get_max(uni_f1_scores)\n",
    "transformer_gigapath_f1, transformer_gigapath_epoch = get_max(gigapath_f1_scores)\n"
   ]
  },
  {
   "cell_type": "code",
   "execution_count": 19,
   "metadata": {},
   "outputs": [
    {
     "data": {
      "text/plain": [
       "([0.7039999961853027,\n",
       "  0.6915887594223022,\n",
       "  0.7070707082748413,\n",
       "  0.6722689270973206,\n",
       "  0.6774193644523621],\n",
       " [0.6909090876579285,\n",
       "  0.7358490824699402,\n",
       "  0.6739130616188049,\n",
       "  0.6603773832321167,\n",
       "  0.6842105388641357],\n",
       " [0.75,\n",
       "  0.7166666388511658,\n",
       "  0.7142857313156128,\n",
       "  0.6428571343421936,\n",
       "  0.6842105388641357])"
      ]
     },
     "execution_count": 19,
     "metadata": {},
     "output_type": "execute_result"
    }
   ],
   "source": [
    "transformer_resnet50_f1, transformer_resnet50_epoch \n",
    "transformer_resnet50_f1, transformer_uni_f1, transformer_gigapath_f1"
   ]
  },
  {
   "cell_type": "code",
   "execution_count": 18,
   "metadata": {},
   "outputs": [
    {
     "data": {
      "image/png": "[encoded data removed]",
      "text/plain": [
       "<Figure size 1200x600 with 1 Axes>"
      ]
     },
     "metadata": {},
     "output_type": "display_data"
    }
   ],
   "source": [
    "fig, ax = plt.subplots(figsize=(12, 6))\n",
    "boxplot = ax.boxplot(transformer_resnet50_f1, labels=['Transformer'], patch_artist=True)\n"
   ]
  },
  {
   "cell_type": "code",
   "execution_count": 17,
   "metadata": {},
   "outputs": [
    {
     "data": {
      "text/plain": [
       "['Model 1', 'Model 2', 'Model 3', 'Model 4', 'Model 5', 'Model 6', 'Model 7']"
      ]
     },
     "execution_count": 17,
     "metadata": {},
     "output_type": "execute_result"
    }
   ],
   "source": [
    "model_names"
   ]
  },
  {
   "cell_type": "code",
   "execution_count": 15,
   "metadata": {},
   "outputs": [
    {
     "data": {
      "text/plain": [
       "(0.6773025631904602, 0.021554563689875857)"
      ]
     },
     "execution_count": 15,
     "metadata": {},
     "output_type": "execute_result"
    }
   ],
   "source": [
    "np.max(uni_means), uni_stds[np.argmax(uni_means)]\n",
    "np.max(resnet50_means), resnet50_stds[np.argmax(resnet50_means)]"
   ]
  },
  {
   "cell_type": "code",
   "execution_count": 12,
   "metadata": {},
   "outputs": [],
   "source": [
    "auroc_uni_means, auroc_uni_stds = get_mean_std(uni_aurocval_scores)\n",
    "auroc_resnet50_means, auroc_resnet50_stds = get_mean_std(resnet50_aurocval_scores)\n",
    "auroc_gigapath_means, auroc_gigapath_stds = get_mean_std(gigapath_aurocval_scores)"
   ]
  },
  {
   "cell_type": "code",
   "execution_count": null,
   "metadata": {},
   "outputs": [],
   "source": [
    "# plot_results(uni_res = [auroc_uni_means, auroc_uni_stds], resnet_res = [auroc_resnet50_means, auroc_resnet50_stds], gigapath_res = [auroc_gigapath_means, auroc_gigapath_stds], title = 'Transformer aggregator per feature encoder: \\n Average 5-fold cross-validation AUROC score')\n",
    "plot_results_no_gigapath(uni_res = [auroc_uni_means, auroc_uni_stds], resnet_res = [auroc_resnet50_means, auroc_resnet50_stds], gigapath_res = [auroc_gigapath_means, auroc_gigapath_stds], title = 'Transformer aggregator per feature encoder: \\n Average 5-fold cross-validation AUROC score')\n"
   ]
  },
  {
   "cell_type": "markdown",
   "metadata": {},
   "source": [
    "# TransMIL"
   ]
  },
  {
   "cell_type": "code",
   "execution_count": null,
   "metadata": {},
   "outputs": [],
   "source": [
    "entity = 'cell-x'\n",
    "project = 'g0-arrest-resnet50-transmil-cv5'\n",
    "\n",
    "runs1 = wandb.Api().runs(f\"{entity}/{project}\")\n"
   ]
  },
  {
   "cell_type": "code",
   "execution_count": null,
   "metadata": {},
   "outputs": [],
   "source": [
    "entity = 'cell-x'\n",
    "project = 'g0-arrest-uni-transmil-cv5'\n",
    "runs2 =  wandb.Api().runs(f\"{entity}/{project}\")"
   ]
  },
  {
   "cell_type": "code",
   "execution_count": null,
   "metadata": {},
   "outputs": [],
   "source": [
    "entity = 'cell-x'\n",
    "project = 'g0-arrest-gigapath-transmil-cv5'\n",
    "runs3 =  wandb.Api().runs(f\"{entity}/{project}\")"
   ]
  },
  {
   "cell_type": "code",
   "execution_count": null,
   "metadata": {},
   "outputs": [],
   "source": [
    "resnet50_f1_scores_transmil, resnet50_aurocval_scores_transmil = get_val_metrics(runs=runs1, index=31)\n",
    "uni_f1_scores_transmil, uni_aurocval_scores_transmil = get_val_metrics(runs=runs2, index=31)\n",
    "gigapath_f1_scores_transmil, gigapath_aurocval_scores_transmil = get_val_metrics(runs=runs3, index=31)\n"
   ]
  },
  {
   "cell_type": "code",
   "execution_count": null,
   "metadata": {},
   "outputs": [],
   "source": [
    "\n",
    "resnet50_means_transmil, resnet50_stds_transmil = get_mean_std(resnet50_f1_scores_transmil)\n",
    "uni_means_transmil, uni_stds_transmil = get_mean_std(uni_f1_scores_transmil)\n",
    "gigapath_means_transmil, gigapath_stds_transmil = get_mean_std(gigapath_f1_scores_transmil)"
   ]
  },
  {
   "cell_type": "code",
   "execution_count": null,
   "metadata": {},
   "outputs": [],
   "source": [
    "# plot_results(resnet_res = [resnet50_means_transmil, resnet50_stds_transmil], \\\n",
    "#             uni_res = [uni_means_transmil, uni_stds_transmil], \\\n",
    "#             gigapath_res = [gigapath_means_transmil, gigapath_stds_transmil], title = 'TransMIL aggregator per feature encoder: \\n Average 5-fold cross-validation F1-score')\n",
    "\n",
    "plot_results_no_gigapath(resnet_res = [resnet50_means_transmil, resnet50_stds_transmil], \\\n",
    "            uni_res = [uni_means_transmil, uni_stds_transmil], \\\n",
    "            gigapath_res = [gigapath_means_transmil, gigapath_stds_transmil], title = 'TransMIL aggregator per feature encoder: \\n Average 5-fold cross-validation F1-score')\n",
    "\n"
   ]
  },
  {
   "cell_type": "code",
   "execution_count": null,
   "metadata": {},
   "outputs": [],
   "source": [
    "\n",
    "resnet50_means_transmil, resnet50_stds_transmil = get_mean_std(resnet50_aurocval_scores_transmil)\n",
    "uni_means_transmil, uni_stds_transmil = get_mean_std(uni_aurocval_scores_transmil)\n",
    "gigapath_means_transmil, gigapath_stds_transmil = get_mean_std(gigapath_aurocval_scores_transmil)"
   ]
  },
  {
   "cell_type": "code",
   "execution_count": null,
   "metadata": {},
   "outputs": [],
   "source": [
    "plot_results(resnet_res = [resnet50_means_transmil, resnet50_stds_transmil], \\\n",
    "            uni_res = [uni_means_transmil, uni_stds_transmil], \\\n",
    "            gigapath_res = [gigapath_means_transmil, gigapath_stds_transmil], title = 'TransMIL aggregator per feature encoder: \\n Average 5-fold cross-validation AUROC score')\n"
   ]
  },
  {
   "cell_type": "markdown",
   "metadata": {},
   "source": [
    "# CAMIL\n",
    "### 30 epochs"
   ]
  },
  {
   "cell_type": "code",
   "execution_count": null,
   "metadata": {},
   "outputs": [],
   "source": [
    "entity = 'anwangxuelong'\n",
    "project1 = 'g0-arrest-resnet50-cv5-camil' \n",
    "project2 = 'g0-arrest-uni-cv5-camil'\n",
    "project3 = 'g0-arrest-gigapath-cv5-camil'\n",
    "\n",
    "\n",
    "\n",
    "runs1 = wandb.Api().runs(f\"{entity}/{project1}\") # check what happened, why are there 6 runs\n",
    "runs2 =  wandb.Api().runs(f\"{entity}/{project2}\")\n",
    "runs3 =  wandb.Api().runs(f\"{entity}/{project3}\")"
   ]
  },
  {
   "cell_type": "code",
   "execution_count": null,
   "metadata": {},
   "outputs": [],
   "source": [
    "resnet50_f1_scores, resnet50_aurocval_scores = get_val_metrics(runs=runs1, index=1)\n"
   ]
  },
  {
   "cell_type": "markdown",
   "metadata": {},
   "source": [
    "### joining cv scores due to resuming from checkpoint and deleting overlapping epochs"
   ]
  },
  {
   "cell_type": "code",
   "execution_count": null,
   "metadata": {},
   "outputs": [],
   "source": [
    "def update_scores(scores, index_left, index_right, index_eliminate):\n",
    "    \n",
    "    \n",
    "    resumed_scores = scores[index_left][:-index_eliminate] + scores[index_right]  # Assuming new_values is the second list\n",
    "\n",
    "    # Replace the second list with the new F1 score\n",
    "    scores[index_right] = resumed_scores\n",
    "\n",
    "    # Remove the third list\n",
    "    del scores[index_left]\n",
    "\n",
    "    return scores"
   ]
  },
  {
   "cell_type": "code",
   "execution_count": null,
   "metadata": {},
   "outputs": [],
   "source": [
    "[len(sublist) for sublist in resnet50_f1_scores]\n",
    "# resnet50_f1_scores[3]"
   ]
  },
  {
   "cell_type": "code",
   "execution_count": null,
   "metadata": {},
   "outputs": [],
   "source": [
    "# resnet50_f1_score_cv1_resumed = resnet50_f1_scores[3][:-5] + resnet50_f1_scores[4] # resumed from epoch 5\n",
    "# resnet50_f1_scores[1] = resnet50_f1_score_cv1_resumed\n",
    "# del resnet50_f1_scores[2]\n",
    "resnet50_f1_scores = update_scores(resnet50_f1_scores, index_left=3, index_right=4, index_eliminate=5)"
   ]
  },
  {
   "cell_type": "code",
   "execution_count": null,
   "metadata": {},
   "outputs": [],
   "source": [
    "# resnet50_aurocval_scores = update_scores(resnet50_aurocval_scores, index_left=2, index_right=1, index_eliminate=5)\n",
    "resnet50_aurocval_scores = update_scores(resnet50_aurocval_scores, index_left=3, index_right=4, index_eliminate=5)"
   ]
  },
  {
   "cell_type": "code",
   "execution_count": null,
   "metadata": {},
   "outputs": [],
   "source": [
    "[len(sublist) for sublist in resnet50_aurocval_scores]\n",
    "# resnet50_f1_scores[4]"
   ]
  },
  {
   "cell_type": "code",
   "execution_count": null,
   "metadata": {},
   "outputs": [],
   "source": [
    "uni_f1_scores, uni_aurocval_scores = get_val_metrics(runs=runs2, index=30)\n",
    "gigapath_f1_scores, gigapath_aurocval_scores = get_val_metrics(runs=runs3, index=30)\n",
    "\n",
    "resnet50_means, resnet50_stds = get_mean_std(resnet50_f1_scores)\n",
    "uni_means, uni_stds = get_mean_std(uni_f1_scores)\n",
    "gigapath_means, gigapath_stds = get_mean_std(gigapath_f1_scores)"
   ]
  },
  {
   "cell_type": "code",
   "execution_count": null,
   "metadata": {},
   "outputs": [],
   "source": [
    "# [np.max(sublist) for sublist in uni_means]"
   ]
  },
  {
   "cell_type": "code",
   "execution_count": null,
   "metadata": {},
   "outputs": [],
   "source": [
    "# plot_results(uni_res = [uni_means, uni_stds], resnet_res = [resnet50_means, resnet50_stds], gigapath_res = [gigapath_means, gigapath_stds], title = 'CAMIL aggregator per feature encoder: \\n Average 5-fold cross-validation F1-score')\n",
    "plot_results_no_gigapath(uni_res = [uni_means, uni_stds], resnet_res = [resnet50_means, resnet50_stds], gigapath_res = [gigapath_means, gigapath_stds], title = 'CAMIL aggregator per feature encoder: \\n Average 5-fold cross-validation F1-score')\n"
   ]
  },
  {
   "cell_type": "code",
   "execution_count": null,
   "metadata": {},
   "outputs": [],
   "source": [
    "auroc_resnet50_means, auroc_resnet50_stds = get_mean_std(resnet50_aurocval_scores)\n",
    "auroc_uni_means, auroc_uni_stds = get_mean_std(uni_aurocval_scores)\n",
    "auroc_gigapath_means, auroc_gigapath_stds = get_mean_std(gigapath_aurocval_scores)"
   ]
  },
  {
   "cell_type": "code",
   "execution_count": null,
   "metadata": {},
   "outputs": [],
   "source": [
    "# plot_results(uni_res = [auroc_uni_means, auroc_uni_stds], resnet_res = [auroc_resnet50_means, auroc_resnet50_stds], gigapath_res = [auroc_gigapath_means, auroc_gigapath_stds], title = 'CAMIL aggregator per feature encoder: \\n Average 5-fold cross-validation AUROC score')\n",
    "plot_results_no_gigapath(uni_res = [auroc_uni_means, auroc_uni_stds], resnet_res = [auroc_resnet50_means, auroc_resnet50_stds], gigapath_res = [auroc_gigapath_means, auroc_gigapath_stds], title = 'CAMIL aggregator per feature encoder: \\n Average 5-fold cross-validation AUROC score')\n"
   ]
  },
  {
   "cell_type": "markdown",
   "metadata": {},
   "source": [
    "# DTFD-MIL\n",
    "### 42 epochs"
   ]
  },
  {
   "cell_type": "code",
   "execution_count": null,
   "metadata": {},
   "outputs": [],
   "source": [
    "entity = 'anwangxuelong'\n",
    "project1 = 'g0-arrest-resnet50-dtfdmil-cv5-multisteplr' \n",
    "project2 = 'g0-arrest-uni-dtfdmil-cv5-multisteplr'\n",
    "project3 = 'g0-arrest-gigapath-dtfdmil-cv5-multisteplr'\n",
    "\n",
    "\n",
    "\n",
    "runs1 = wandb.Api().runs(f\"{entity}/{project1}\") # check what happened, why are there 6 runs\n",
    "runs2 =  wandb.Api().runs(f\"{entity}/{project2}\")\n",
    "runs3 =  wandb.Api().runs(f\"{entity}/{project3}\")"
   ]
  },
  {
   "cell_type": "code",
   "execution_count": null,
   "metadata": {},
   "outputs": [],
   "source": [
    "resnet50_f1_scores, resnet50_aurocval_scores = get_val_metrics_scan(runs=runs1)\n"
   ]
  },
  {
   "cell_type": "code",
   "execution_count": null,
   "metadata": {},
   "outputs": [],
   "source": [
    "[len(sublist) for sublist in resnet50_f1_scores]\n"
   ]
  },
  {
   "cell_type": "code",
   "execution_count": null,
   "metadata": {},
   "outputs": [],
   "source": [
    "[len(sublist) for sublist in resnet50_f1_scores]\n",
    "# len(resnet50_f1_scores[1][:-3] + resnet50_f1_scores[2])\n",
    "len(resnet50_f1_scores[3][:-1] + resnet50_f1_scores[4])\n",
    "\n",
    "resnet50_f1_scores = update_scores(resnet50_f1_scores, index_left=1, index_right=2, index_eliminate=3)\n",
    "resnet50_aurocval_scores = update_scores(resnet50_aurocval_scores, index_left=1, index_right=2, index_eliminate=3)\n",
    "\n",
    "# uni_f1_scores = update_scores(uni_f1_scores, index_left=2, index_right=3, index_eliminate=10)\n",
    "# uni_aurocval_scores = update_scores(uni_aurocval_scores, index_left=2, index_right=3, index_eliminate=10)\n"
   ]
  },
  {
   "cell_type": "code",
   "execution_count": null,
   "metadata": {},
   "outputs": [],
   "source": [
    "[len(sublist) for sublist in resnet50_f1_scores]\n",
    "resnet50_f1_scores = update_scores(resnet50_f1_scores, index_left=2, index_right=3, index_eliminate=1)\n",
    "resnet50_aurocval_scores = update_scores(resnet50_aurocval_scores, index_left=2, index_right=3, index_eliminate=1)\n"
   ]
  },
  {
   "cell_type": "code",
   "execution_count": null,
   "metadata": {},
   "outputs": [],
   "source": [
    "[len(sublist) for sublist in resnet50_f1_scores]\n"
   ]
  },
  {
   "cell_type": "code",
   "execution_count": null,
   "metadata": {},
   "outputs": [],
   "source": [
    "uni_f1_scores, uni_aurocval_scores = get_val_metrics_scan(runs=runs2)\n",
    "gigapath_f1_scores, gigapath_aurocval_scores = get_val_metrics_scan(runs=runs3)\n",
    "\n",
    "\n",
    "# uni_means, uni_stds = get_mean_std(uni_f1_scores)\n",
    "# gigapath_means, gigapath_stds = get_mean_std(gigapath_f1_scores)"
   ]
  },
  {
   "cell_type": "code",
   "execution_count": null,
   "metadata": {},
   "outputs": [],
   "source": [
    "[len(sublist) for sublist in uni_aurocval_scores]\n",
    "# len(uni_aurocval_scores[2][:-10] + uni_aurocval_scores[3])\n"
   ]
  },
  {
   "cell_type": "code",
   "execution_count": null,
   "metadata": {},
   "outputs": [],
   "source": [
    "# uni_aurocval_scores[3]\n",
    "# uni_f1_scores[2][:-10] + uni_aurocval_scores[3]\n",
    "uni_f1_scores = update_scores(uni_f1_scores, index_left=2, index_right=3, index_eliminate=10)\n",
    "uni_aurocval_scores = update_scores(uni_aurocval_scores, index_left=2, index_right=3, index_eliminate=10)\n"
   ]
  },
  {
   "cell_type": "code",
   "execution_count": null,
   "metadata": {},
   "outputs": [],
   "source": [
    "[len(sublist) for sublist in gigapath_f1_scores]\n",
    "len(gigapath_f1_scores[2][:-1] + gigapath_f1_scores[3])\n",
    "# gigapath_f1_scores[3]\n",
    "gigapath_f1_scores = update_scores(gigapath_f1_scores, index_left=2, index_right=3, index_eliminate=1)\n",
    "gigapath_aurocval_scores = update_scores(gigapath_aurocval_scores, index_left=2, index_right=3, index_eliminate=1)\n",
    "\n"
   ]
  },
  {
   "cell_type": "code",
   "execution_count": null,
   "metadata": {},
   "outputs": [],
   "source": [
    "[len(sublist) for sublist in gigapath_aurocval_scores]\n",
    "[len(sublist) for sublist in uni_aurocval_scores]"
   ]
  },
  {
   "cell_type": "code",
   "execution_count": null,
   "metadata": {},
   "outputs": [],
   "source": [
    "\n",
    "resnet50_means, resnet50_stds = get_mean_std(resnet50_f1_scores)\n",
    "uni_means, uni_stds = get_mean_std(uni_f1_scores)\n",
    "gigapath_means, gigapath_stds = get_mean_std(gigapath_f1_scores)"
   ]
  },
  {
   "cell_type": "code",
   "execution_count": null,
   "metadata": {},
   "outputs": [],
   "source": [
    "# plot_results(resnet_res = [resnet50_means, resnet50_stds], \\\n",
    "#             uni_res = [uni_means, uni_stds], \\\n",
    "#             gigapath_res = [gigapath_means, gigapath_stds], title = 'DTFD-MIL aggregator per feature encoder: \\n Average 5-fold cross-validation F1-score')\n",
    "plot_results_no_gigapath(resnet_res = [resnet50_means, resnet50_stds], \\\n",
    "            uni_res = [uni_means, uni_stds], \\\n",
    "            gigapath_res = [gigapath_means, gigapath_stds], title = 'DTFD-MIL aggregator per feature encoder: \\n Average 5-fold cross-validation F1-score')\n"
   ]
  },
  {
   "cell_type": "code",
   "execution_count": null,
   "metadata": {},
   "outputs": [],
   "source": [
    "\n",
    "resnet50_means, resnet50_stds = get_mean_std(resnet50_aurocval_scores)\n",
    "uni_means, uni_stds = get_mean_std(uni_aurocval_scores)\n",
    "gigapath_means, gigapath_stds = get_mean_std(gigapath_aurocval_scores)"
   ]
  },
  {
   "cell_type": "code",
   "execution_count": null,
   "metadata": {},
   "outputs": [],
   "source": [
    "plot_results(resnet_res = [resnet50_means, resnet50_stds], \\\n",
    "            uni_res = [uni_means, uni_stds], \\\n",
    "            gigapath_res = [gigapath_means, gigapath_stds], title = 'DTFD-MIL aggregator per feature encoder: \\n Average 5-fold cross-validation AUROC score')\n"
   ]
  },
  {
   "cell_type": "markdown",
   "metadata": {},
   "source": [
    "# AttentionMIL"
   ]
  },
  {
   "cell_type": "code",
   "execution_count": null,
   "metadata": {},
   "outputs": [],
   "source": [
    "entity1 = 'cell-x'\n",
    "entity2 = 'anwangxuelong'\n",
    "project1 = 'g0-arrest-resnet50-attentionMIL_cv5' \n",
    "project2 = 'g0-arrest-uni-attentionMIL_cv5'\n",
    "project3 = 'g0-arrest-gigapath-attentionMIL_cv5'\n",
    "\n",
    "\n",
    "\n",
    "runs1 = wandb.Api().runs(f\"{entity1}/{project1}\") # check what happened, why are there 6 runs\n",
    "runs2 =  wandb.Api().runs(f\"{entity1}/{project2}\")\n",
    "runs3 =  wandb.Api().runs(f\"{entity2}/{project3}\")"
   ]
  },
  {
   "cell_type": "code",
   "execution_count": null,
   "metadata": {},
   "outputs": [],
   "source": [
    "resnet50_f1_scores, resnet50_aurocval_scores = get_val_metrics(runs=runs1)\n",
    "uni_f1_scores, uni_aurocval_scores = get_val_metrics(runs=runs2)\n",
    "gigapath_f1_scores, gigapath_aurocval_scores = get_val_metrics(runs=runs3)\n",
    "\n",
    "\n",
    "# uni_means, uni_stds = get_mean_std(uni_f1_scores)\n",
    "# gigapath_means, gigapath_stds = get_mean_std(gigapath_f1_scores)"
   ]
  },
  {
   "cell_type": "code",
   "execution_count": null,
   "metadata": {},
   "outputs": [],
   "source": [
    "[len(sublist) for sublist in resnet50_f1_scores]\n"
   ]
  },
  {
   "cell_type": "code",
   "execution_count": null,
   "metadata": {},
   "outputs": [],
   "source": [
    "[len(sublist) for sublist in uni_f1_scores]\n",
    "# resnet50_f1_scores = update_scores(resnet50_f1_scores, index_left=4, index_right=3, index_eliminate=5)\n",
    "# uni_f1_scores[3]\n",
    "# uni_f1_scores[4]\n",
    "uni_f1_scores = update_scores(uni_f1_scores, index_left=3, index_right=4, index_eliminate=1)\n",
    "uni_aurocval_scores = update_scores(uni_aurocval_scores, index_left=3, index_right=4, index_eliminate=1)\n"
   ]
  },
  {
   "cell_type": "code",
   "execution_count": null,
   "metadata": {},
   "outputs": [],
   "source": [
    "[len(sublist) for sublist in uni_f1_scores]\n"
   ]
  },
  {
   "cell_type": "code",
   "execution_count": null,
   "metadata": {},
   "outputs": [],
   "source": [
    "[len(sublist) for sublist in gigapath_f1_scores]\n",
    "gigapath_f1_scores = update_scores(gigapath_f1_scores, index_left=3, index_right=4, index_eliminate=4)\n",
    "gigapath_f1_scores = update_scores(gigapath_f1_scores, index_left=4, index_right=5, index_eliminate=2)"
   ]
  },
  {
   "cell_type": "code",
   "execution_count": null,
   "metadata": {},
   "outputs": [],
   "source": [
    "gigapath_aurocval_scores = update_scores(gigapath_aurocval_scores, index_left=3, index_right=4, index_eliminate=4)\n",
    "gigapath_aurocval_scores = update_scores(gigapath_aurocval_scores, index_left=4, index_right=5, index_eliminate=2)"
   ]
  },
  {
   "cell_type": "code",
   "execution_count": null,
   "metadata": {},
   "outputs": [],
   "source": [
    "[len(sublist) for sublist in gigapath_aurocval_scores]\n"
   ]
  },
  {
   "cell_type": "code",
   "execution_count": null,
   "metadata": {},
   "outputs": [],
   "source": [
    "resnet50_means, resnet50_stds = get_mean_std(resnet50_f1_scores)\n",
    "uni_means, uni_stds = get_mean_std(uni_f1_scores)\n",
    "gigapath_means, gigapath_stds = get_mean_std(gigapath_f1_scores)"
   ]
  },
  {
   "cell_type": "code",
   "execution_count": null,
   "metadata": {},
   "outputs": [],
   "source": [
    "# plot_results(resnet_res = [resnet50_means,resnet50_stds], \\\n",
    "#             uni_res = [uni_means, uni_stds], \\\n",
    "#             gigapath_res = [gigapath_means, gigapath_stds], title = 'AttentionMIL aggregator per feature encoder: \\n Average 5-fold cross-validation F1-score')\n",
    "plot_results_no_gigapath(resnet_res = [resnet50_means,resnet50_stds], \\\n",
    "            uni_res = [uni_means, uni_stds], \\\n",
    "            gigapath_res = [gigapath_means, gigapath_stds], title = 'AttentionMIL aggregator per feature encoder: \\n Average 5-fold cross-validation F1-score')\n"
   ]
  },
  {
   "cell_type": "code",
   "execution_count": null,
   "metadata": {},
   "outputs": [],
   "source": [
    "resnet50_means, resnet50_stds = get_mean_std(resnet50_aurocval_scores)\n",
    "uni_means, uni_stds = get_mean_std(uni_aurocval_scores)\n",
    "gigapath_means, gigapath_stds = get_mean_std(gigapath_aurocval_scores)"
   ]
  },
  {
   "cell_type": "code",
   "execution_count": null,
   "metadata": {},
   "outputs": [],
   "source": [
    "# plot_results(uni_res = [uni_means, uni_stds], resnet_res = [resnet50_means, resnet50_stds], gigapath_res = [gigapath_means, gigapath_stds], title = 'AttentionMIL aggregator per feature encoder: \\n Average 5-fold cross-validation AUROC score')\n",
    "plot_results_no_gigapath(uni_res = [uni_means, uni_stds], resnet_res = [resnet50_means, resnet50_stds], gigapath_res = [gigapath_means, gigapath_stds], title = 'AttentionMIL aggregator per feature encoder: \\n Average 5-fold cross-validation AUROC score')\n"
   ]
  },
  {
   "cell_type": "markdown",
   "metadata": {},
   "source": [
    "# GraphTransformer"
   ]
  },
  {
   "cell_type": "code",
   "execution_count": null,
   "metadata": {},
   "outputs": [],
   "source": [
    "entity = 'anwangxuelong'\n",
    "project1 = 'g0-arrest-resnet50-cv5-graph-transformer' \n",
    "project2 = 'g0-arrest-uni-cv5-graph-transformer'\n",
    "project3 = 'g0-arrest-gigapath-cv5-graph-transformer'\n",
    "\n",
    "\n",
    "\n",
    "runs1 = wandb.Api().runs(f\"{entity}/{project1}\") # check what happened, why are there 6 runs\n",
    "runs2 =  wandb.Api().runs(f\"{entity}/{project2}\")\n",
    "runs3 =  wandb.Api().runs(f\"{entity}/{project3}\")"
   ]
  },
  {
   "cell_type": "code",
   "execution_count": null,
   "metadata": {},
   "outputs": [],
   "source": [
    "resnet50_f1_scores, resnet50_aurocval_scores = get_val_metrics(runs=runs1)\n",
    "uni_f1_scores, uni_aurocval_scores = get_val_metrics(runs=runs2)\n",
    "gigapath_f1_scores, gigapath_aurocval_scores = get_val_metrics(runs=runs3)\n"
   ]
  },
  {
   "cell_type": "code",
   "execution_count": null,
   "metadata": {},
   "outputs": [],
   "source": [
    "[len(sublist) for sublist in resnet50_f1_scores]\n",
    "resnet50_f1_scores = update_scores(resnet50_f1_scores, index_left=1, index_right=2, index_eliminate=6)\n",
    "resnet50_aurocval_scores = update_scores(resnet50_aurocval_scores, index_left=1, index_right=2, index_eliminate=6)\n",
    "\n"
   ]
  },
  {
   "cell_type": "code",
   "execution_count": null,
   "metadata": {},
   "outputs": [],
   "source": [
    "[len(sublist) for sublist in resnet50_f1_scores]\n",
    "[len(sublist) for sublist in uni_aurocval_scores]\n",
    "uni_f1_scores = update_scores(uni_f1_scores, index_left=1, index_right=2, index_eliminate=30)\n",
    "uni_aurocval_scores = update_scores(uni_aurocval_scores, index_left=1, index_right=2, index_eliminate=30)\n"
   ]
  },
  {
   "cell_type": "code",
   "execution_count": null,
   "metadata": {},
   "outputs": [],
   "source": [
    "[len(sublist) for sublist in uni_aurocval_scores]\n",
    "[len(sublist) for sublist in gigapath_f1_scores]\n",
    "gigapath_f1_scores = update_scores(gigapath_f1_scores, index_left=1, index_right=2, index_eliminate=12)\n",
    "gigapath_aurocval_scores = update_scores(gigapath_aurocval_scores,index_left=1, index_right=2, index_eliminate=12)\n"
   ]
  },
  {
   "cell_type": "code",
   "execution_count": null,
   "metadata": {},
   "outputs": [],
   "source": [
    "[len(sublist) for sublist in gigapath_f1_scores]\n",
    "gigapath_f1_scores = update_scores(gigapath_f1_scores, index_left=4, index_right=5, index_eliminate=6)\n",
    "gigapath_aurocval_scores = update_scores(gigapath_aurocval_scores, index_left=4, index_right=5, index_eliminate=6)\n"
   ]
  },
  {
   "cell_type": "code",
   "execution_count": null,
   "metadata": {},
   "outputs": [],
   "source": [
    "[len(sublist) for sublist in gigapath_f1_scores]\n",
    "\n",
    "resnet50_means, resnet50_stds = get_mean_std(resnet50_f1_scores)\n",
    "uni_means, uni_stds = get_mean_std(uni_f1_scores)\n",
    "gigapath_means, gigapath_stds = get_mean_std(gigapath_f1_scores)"
   ]
  },
  {
   "cell_type": "code",
   "execution_count": null,
   "metadata": {},
   "outputs": [],
   "source": [
    "# plot_results(resnet_res = [resnet50_means, resnet50_stds], \\\n",
    "#             uni_res = [uni_means, uni_stds], \\\n",
    "#             gigapath_res = [gigapath_means, gigapath_stds], title = 'Graph Transformer aggregator per feature encoder: \\n Average 5-fold cross-validation F1-score')\n",
    "plot_results_no_gigapath(resnet_res = [resnet50_means, resnet50_stds], \\\n",
    "            uni_res = [uni_means, uni_stds], \\\n",
    "            gigapath_res = [gigapath_means, gigapath_stds], title = 'Graph Transformer aggregator per feature encoder: \\n Average 5-fold cross-validation F1-score')\n"
   ]
  },
  {
   "cell_type": "code",
   "execution_count": null,
   "metadata": {},
   "outputs": [],
   "source": [
    "\n",
    "resnet50_means, resnet50_stds = get_mean_std(resnet50_aurocval_scores)\n",
    "uni_means, uni_stds = get_mean_std(uni_aurocval_scores)\n",
    "gigapath_means, gigapath_stds = get_mean_std(gigapath_aurocval_scores)"
   ]
  },
  {
   "cell_type": "code",
   "execution_count": null,
   "metadata": {},
   "outputs": [],
   "source": [
    "# plot_results(resnet_res = [resnet50_means, resnet50_stds], \\\n",
    "#             uni_res = [uni_means, uni_stds], \\\n",
    "#             gigapath_res = [gigapath_means, gigapath_stds], title = 'Graph Transformer aggregator per feature encoder: \\n Average 5-fold cross-validation AUROC score')\n",
    "plot_results_no_gigapath(resnet_res = [resnet50_means, resnet50_stds], \\\n",
    "            uni_res = [uni_means, uni_stds], \\\n",
    "            gigapath_res = [gigapath_means, gigapath_stds], title = 'Graph Transformer aggregator per feature encoder: \\n Average 5-fold cross-validation AUROC score')\n"
   ]
  },
  {
   "cell_type": "markdown",
   "metadata": {},
   "source": [
    "# Multimodal TransMIL"
   ]
  },
  {
   "cell_type": "code",
   "execution_count": null,
   "metadata": {},
   "outputs": [],
   "source": [
    "entity = 'anwangxuelong'\n",
    "# project1 = 'g0-arrest-resnet50-cv5-graph-transformer' \n",
    "project2 = 'g0-arrest-uni-transmil-multimodal-cv5'\n",
    "# project3 = 'g0-arrest-gigapath-cv5-graph-transformer'\n",
    "\n",
    "\n",
    "\n",
    "# runs1 = wandb.Api().runs(f\"{entity}/{project1}\") # check what happened, why are there 6 runs\n",
    "runs2 =  wandb.Api().runs(f\"{entity}/{project2}\")\n",
    "# runs3 =  wandb.Api().runs(f\"{entity}/{project3}\")"
   ]
  },
  {
   "cell_type": "code",
   "execution_count": null,
   "metadata": {},
   "outputs": [],
   "source": [
    "uni_f1_scores, uni_aurocval_scores = get_val_metrics(runs=runs2)\n"
   ]
  },
  {
   "cell_type": "code",
   "execution_count": null,
   "metadata": {},
   "outputs": [],
   "source": [
    "[len(sublist) for sublist in uni_f1_scores]\n"
   ]
  },
  {
   "cell_type": "code",
   "execution_count": null,
   "metadata": {},
   "outputs": [],
   "source": [
    "uni_means, uni_stds = get_mean_std(uni_f1_scores)\n"
   ]
  },
  {
   "cell_type": "code",
   "execution_count": null,
   "metadata": {},
   "outputs": [],
   "source": [
    "plot_results_only_uni(resnet_res = [uni_means, uni_stds], \\\n",
    "            uni_res = [uni_means, uni_stds], \\\n",
    "            gigapath_res = [uni_means, uni_stds], title = 'TransMIL Multimodal Classification with UNI: \\n Average 5-fold cross-validation F1-score')\n"
   ]
  },
  {
   "cell_type": "code",
   "execution_count": null,
   "metadata": {},
   "outputs": [],
   "source": [
    "uni_means, uni_stds = get_mean_std(uni_aurocval_scores)\n"
   ]
  },
  {
   "cell_type": "code",
   "execution_count": null,
   "metadata": {},
   "outputs": [],
   "source": [
    "plot_results_only_uni(resnet_res = [uni_means, uni_stds], \\\n",
    "            uni_res = [uni_means, uni_stds], \\\n",
    "            gigapath_res = [uni_means, uni_stds], title = 'TransMIL Multimodal Classification with UNI: \\n Average 5-fold cross-validation AUROC-score')\n"
   ]
  },
  {
   "cell_type": "markdown",
   "metadata": {},
   "source": [
    "# Combining DTFD-MIL-TransMIL"
   ]
  },
  {
   "cell_type": "code",
   "execution_count": null,
   "metadata": {},
   "outputs": [],
   "source": [
    "entity = 'anwangxuelong'\n",
    "# project1 = 'g0-arrest-resnet50-cv5-graph-transformer' \n",
    "project2 = 'g0-arrest-uni-dtfdtransmil-cv5'\n",
    "# project3 = 'g0-arrest-gigapath-cv5-graph-transformer'\n",
    "\n",
    "\n",
    "\n",
    "# runs1 = wandb.Api().runs(f\"{entity}/{project1}\") # check what happened, why are there 6 runs\n",
    "runs2 =  wandb.Api().runs(f\"{entity}/{project2}\")\n",
    "# runs3 =  wandb.Api().runs(f\"{entity}/{project3}\")"
   ]
  },
  {
   "cell_type": "code",
   "execution_count": null,
   "metadata": {},
   "outputs": [],
   "source": [
    "uni_f1_scores, uni_aurocval_scores = get_val_metrics_scan(runs=runs2)\n"
   ]
  },
  {
   "cell_type": "code",
   "execution_count": null,
   "metadata": {},
   "outputs": [],
   "source": [
    "[len(sublist) for sublist in uni_f1_scores]\n",
    "uni_f1_scores = update_scores(uni_f1_scores, index_left=4, index_right=5, index_eliminate=7)\n",
    "uni_aurocval_scores = update_scores(uni_aurocval_scores, index_left=4, index_right=5, index_eliminate=7)\n",
    "\n"
   ]
  },
  {
   "cell_type": "code",
   "execution_count": null,
   "metadata": {},
   "outputs": [],
   "source": [
    "[len(sublist) for sublist in uni_f1_scores]\n"
   ]
  },
  {
   "cell_type": "code",
   "execution_count": null,
   "metadata": {},
   "outputs": [],
   "source": [
    "uni_means, uni_stds = get_mean_std(uni_f1_scores)\n"
   ]
  },
  {
   "cell_type": "code",
   "execution_count": null,
   "metadata": {},
   "outputs": [],
   "source": [
    "plot_results_only_uni(resnet_res = [uni_means, uni_stds], \\\n",
    "            uni_res = [uni_means, uni_stds], \\\n",
    "            gigapath_res = [uni_means, uni_stds], title = 'DTFD-TransMIL Classification with UNI: \\n Average 5-fold cross-validation F1-score')\n"
   ]
  },
  {
   "cell_type": "code",
   "execution_count": null,
   "metadata": {},
   "outputs": [],
   "source": [
    "uni_means, uni_stds = get_mean_std(uni_aurocval_scores)\n"
   ]
  },
  {
   "cell_type": "code",
   "execution_count": null,
   "metadata": {},
   "outputs": [],
   "source": [
    "plot_results_only_uni(resnet_res = [uni_means, uni_stds], \\\n",
    "            uni_res = [uni_means, uni_stds], \\\n",
    "            gigapath_res = [uni_means, uni_stds], title = 'DTFD-TransMIL Classification with UNI: \\n Average 5-fold cross-validation AUROC-score')\n"
   ]
  },
  {
   "cell_type": "code",
   "execution_count": null,
   "metadata": {},
   "outputs": [],
   "source": [
    "wandb.finish()"
   ]
  }
 ],
 "metadata": {
  "kernelspec": {
   "display_name": "biomedai",
   "language": "python",
   "name": "python3"
  },
  "language_info": {
   "codemirror_mode": {
    "name": "ipython",
    "version": 3
   },
   "file_extension": ".py",
   "mimetype": "text/x-python",
   "name": "python",
   "nbconvert_exporter": "python",
   "pygments_lexer": "ipython3",
   "version": "3.9.18"
  }
 },
 "nbformat": 4,
 "nbformat_minor": 2
}
