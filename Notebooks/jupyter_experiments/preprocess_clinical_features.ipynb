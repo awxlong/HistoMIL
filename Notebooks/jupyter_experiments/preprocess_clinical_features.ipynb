{
 "cells": [
  {
   "cell_type": "code",
   "execution_count": null,
   "metadata": {},
   "outputs": [],
   "source": [
    "%load_ext autoreload\n",
    "%autoreload 2"
   ]
  },
  {
   "cell_type": "code",
   "execution_count": null,
   "metadata": {},
   "outputs": [],
   "source": [
    "%matplotlib inline"
   ]
  },
  {
   "cell_type": "code",
   "execution_count": null,
   "metadata": {},
   "outputs": [],
   "source": [
    "import pandas as pd\n",
    "from skimpy import skim\n",
    "import numpy as np\n",
    "import matplotlib.pyplot as plt\n",
    "import seaborn as sns\n",
    "import random\n",
    "import pdb\n",
    "import math\n",
    "from sklearn.preprocessing import OneHotEncoder\n",
    "from sklearn.model_selection import KFold\n",
    "np.random.seed(42)\n",
    "# import pandas_profiling"
   ]
  },
  {
   "cell_type": "code",
   "execution_count": null,
   "metadata": {},
   "outputs": [],
   "source": [
    "# subdirs = os.listdir('/Users/awxlong/Desktop/my-studies/temp_data/CRC/TCGA-CRC/gdc_download_20240629_132916.799980/')\n",
    "cohort_name = 'COAD'\n",
    "task_name = 'g0_arrest'\n",
    "# Parent directory containing subdirectories with XML files\n",
    "# parent_directory = '/Users/awxlong/Desktop/my-studies/temp_data/CRC/TCGA-CRC/gdc_download_20240629_132916.799980/'\n",
    "root_dir = '/Users/awxlong/Desktop/my-studies/hpc_exps/Data/'\n",
    "\n",
    "df = pd.read_csv(f'{root_dir}{cohort_name}_WSI_clinical_g0_features.csv')\n"
   ]
  },
  {
   "cell_type": "code",
   "execution_count": null,
   "metadata": {},
   "outputs": [],
   "source": [
    "df['Ann Arbor'].value_counts()"
   ]
  },
  {
   "cell_type": "code",
   "execution_count": null,
   "metadata": {},
   "outputs": [],
   "source": [
    "df['Residual Tumor'].value_counts()\n",
    "# df['Residual Tumor'].unique()"
   ]
  },
  {
   "cell_type": "code",
   "execution_count": null,
   "metadata": {},
   "outputs": [],
   "source": []
  },
  {
   "cell_type": "code",
   "execution_count": null,
   "metadata": {},
   "outputs": [],
   "source": [
    "df['Person Neoplasm Cancer Status'].value_counts()"
   ]
  },
  {
   "cell_type": "code",
   "execution_count": null,
   "metadata": {},
   "outputs": [],
   "source": [
    "print(df.shape)\n",
    "df.head()"
   ]
  },
  {
   "cell_type": "code",
   "execution_count": null,
   "metadata": {},
   "outputs": [],
   "source": [
    "df['g0_arrest'].value_counts()"
   ]
  },
  {
   "cell_type": "code",
   "execution_count": null,
   "metadata": {},
   "outputs": [],
   "source": [
    "df['Gender'].value_counts()"
   ]
  },
  {
   "cell_type": "code",
   "execution_count": null,
   "metadata": {},
   "outputs": [],
   "source": [
    "df['Race'].value_counts()"
   ]
  },
  {
   "cell_type": "code",
   "execution_count": null,
   "metadata": {},
   "outputs": [],
   "source": [
    "df['Other Dx'].value_counts()"
   ]
  },
  {
   "cell_type": "code",
   "execution_count": null,
   "metadata": {},
   "outputs": [],
   "source": [
    "df['Pathologic Stage'].value_counts()"
   ]
  },
  {
   "cell_type": "code",
   "execution_count": null,
   "metadata": {},
   "outputs": [],
   "source": [
    "df['Icd 10'].value_counts()"
   ]
  },
  {
   "cell_type": "markdown",
   "metadata": {},
   "source": [
    "### icd codes"
   ]
  },
  {
   "cell_type": "code",
   "execution_count": null,
   "metadata": {},
   "outputs": [],
   "source": [
    "def replace_icd_o_3_site(df, column_name):\n",
    "    icd_o_3_site_map = {\n",
    "        'C18.0': 'Cecum',\n",
    "        'C18.2': 'Ascending colon',\n",
    "        'C18.3': 'Hepatic flexure of colon',\n",
    "        'C18.4': 'Transverse colon',\n",
    "        'C18.5': 'Splenic flexure of colon',\n",
    "        'C18.6': 'Descending colon',\n",
    "        'C18.7': 'Sigmoid colon',\n",
    "        'C18.9': 'Colon, NOS (Not Otherwise Specified)',\n",
    "        'C19.9': 'Rectosigmoid junction',\n",
    "        'C20.9': 'Rectum, NOS',\n",
    "        'C49.4': 'Connective and soft tissue of abdomen',\n",
    "        'C80.9': 'Unknown primary site'\n",
    "    }\n",
    "    \n",
    "    # Replace the codes with their meanings\n",
    "    df[column_name] = df[column_name].map(icd_o_3_site_map).fillna(df[column_name])\n",
    "    \n",
    "    # Replace any remaining codes with 'Unknown code'\n",
    "    # df[column_name] = df[column_name].apply(lambda x: 'Unknown code' if x.startswith('C') else x)\n",
    "    \n",
    "    return df\n",
    "\n",
    "def replace_icd_o_3_histology(df, column_name):\n",
    "    icd_o_3_histology_map = {\n",
    "        '8140/3': 'Adenocarcinoma, NOS',\n",
    "        '8480/3': 'Mucinous adenocarcinoma',\n",
    "        '8260/3': 'Papillary adenocarcinoma, NOS',\n",
    "        '8560/3': 'Adenosquamous carcinoma',\n",
    "        '8574/3': 'Adenocarcinoma with neuroendocrine differentiation',\n",
    "        '8255/3': 'Adenocarcinoma with mixed subtypes',\n",
    "        '8010/3': 'Carcinoma, NOS',\n",
    "        '8263/3': 'Adenocarcinoma in tubulovillous adenoma',\n",
    "        '8211/3': 'Tubular adenocarcinoma'\n",
    "    }\n",
    "    \n",
    "    # Replace the codes with their meanings\n",
    "    df[column_name] = df[column_name].map(icd_o_3_histology_map).fillna(df[column_name])\n",
    "    \n",
    "    # Replace any remaining codes with 'Unknown histology'\n",
    "    # df[column_name] = df[column_name].apply(lambda x: 'Unknown histology' if isinstance(x, str) and '/' in x else x)\n",
    "    \n",
    "    return df\n",
    "\n",
    "def replace_icd_10(df, column_name):\n",
    "    icd_10_map = {\n",
    "        'C18.0': 'Malignant neoplasm of cecum',\n",
    "        'C18.2': 'Malignant neoplasm of ascending colon',\n",
    "        'C18.3': 'Malignant neoplasm of hepatic flexure',\n",
    "        'C18.4': 'Malignant neoplasm of transverse colon',\n",
    "        'C18.5': 'Malignant neoplasm of splenic flexure',\n",
    "        'C18.6': 'Malignant neoplasm of descending colon',\n",
    "        'C18.7': 'Malignant neoplasm of sigmoid colon',\n",
    "        'C18.9': 'Malignant neoplasm of colon, unspecified',\n",
    "        'C19': 'Malignant neoplasm of rectosigmoid junction',\n",
    "        'C20': 'Malignant neoplasm of rectum',\n",
    "        'C49.4': 'Malignant neoplasm of connective and soft tissue of abdomen',\n",
    "        'C80.1': 'Malignant (primary) neoplasm, unspecified'\n",
    "    }\n",
    "    \n",
    "    # Replace the codes with their meanings\n",
    "    df[column_name] = df[column_name].map(icd_10_map).fillna(df[column_name])\n",
    "    \n",
    "    # Replace any remaining codes with 'Unknown ICD-10 code'\n",
    "    df[column_name] = df[column_name].apply(lambda x: 'Unknown ICD-10 code' if isinstance(x, str) and x.startswith('C') else x)\n",
    "    \n",
    "    return df\n",
    "\n",
    "df = replace_icd_o_3_site(df, 'Icd O 3 Site')\n",
    "df = replace_icd_o_3_histology(df, 'Icd O 3 Histology')\n",
    "df = replace_icd_10(df, 'Icd 10')"
   ]
  },
  {
   "cell_type": "code",
   "execution_count": null,
   "metadata": {},
   "outputs": [],
   "source": [
    "df['Icd O 3 Histology'].value_counts()"
   ]
  },
  {
   "cell_type": "code",
   "execution_count": null,
   "metadata": {},
   "outputs": [],
   "source": [
    "df['Anatomic Neoplasm Subdivision'].value_counts()\n"
   ]
  },
  {
   "cell_type": "code",
   "execution_count": null,
   "metadata": {},
   "outputs": [],
   "source": [
    "df['Icd O 3 Site'].value_counts()"
   ]
  },
  {
   "cell_type": "code",
   "execution_count": null,
   "metadata": {},
   "outputs": [],
   "source": [
    "# df['Icd 10'].value_counts()"
   ]
  },
  {
   "cell_type": "code",
   "execution_count": null,
   "metadata": {},
   "outputs": [],
   "source": [
    "# df['Gleason Grading'].value_counts()\n",
    "df['Preoperative Pretreatment Cea Level'].describe()"
   ]
  },
  {
   "cell_type": "code",
   "execution_count": null,
   "metadata": {},
   "outputs": [],
   "source": [
    "skim(df)"
   ]
  },
  {
   "cell_type": "code",
   "execution_count": null,
   "metadata": {},
   "outputs": [],
   "source": [
    "# # Numerical features\n",
    "# num_feats=[col for col in df.columns if df[col].dtypes != 'object' and col != 'Unnamed: 0']\n",
    "\n",
    "# # Plot distribution of numerical columns\n",
    "# fig=plt.figure(figsize=(20,30))\n",
    "# for i, col in enumerate(num_feats):\n",
    "#     plt.subplot(len(num_feats),1,1*i+1)\n",
    "#     sns.distplot(df[col])\n",
    "    \n",
    "# fig.tight_layout()\n",
    "# plt.show()\n",
    "\n",
    "# Numerical features\n",
    "num_feats = [col for col in df.columns if df[col].dtypes != 'object' and col != 'Unnamed: 0']\n",
    "\n",
    "# Calculate the number of rows and columns for the subplot grid\n",
    "n = len(num_feats)\n",
    "cols = 3\n",
    "rows = math.ceil(n / cols)\n",
    "\n",
    "# Create a larger figure with more space between subplots\n",
    "fig, axes = plt.subplots(rows, cols, figsize=(20, 5*rows))\n",
    "fig.suptitle('Distribution of Numerical Variables', fontsize=24, y=1.02)\n",
    "\n",
    "# Flatten the axes array for easier indexing\n",
    "axes = axes.flatten()\n",
    "\n",
    "# Increase the space between subplots\n",
    "plt.subplots_adjust(hspace=0.5, wspace=0.3)\n",
    "\n",
    "for i, col in enumerate(num_feats):\n",
    "    ax = axes[i]\n",
    "    \n",
    "    # Plot histogram and KDE\n",
    "    sns.histplot(data=df, x=col, kde=True, ax=ax)\n",
    "    \n",
    "    # Add mean and median lines\n",
    "    mean = df[col].mean()\n",
    "    median = df[col].median()\n",
    "    ax.axvline(mean, color='r', linestyle='--', label=f'Mean: {mean:.2f}')\n",
    "    ax.axvline(median, color='g', linestyle='-.', label=f'Median: {median:.2f}')\n",
    "    \n",
    "    # Customize the plot\n",
    "    ax.set_title(col, fontsize=16)\n",
    "    ax.set_xlabel(col, fontsize=14)\n",
    "    ax.set_ylabel('Count', fontsize=14)\n",
    "    ax.tick_params(axis='both', which='major', labelsize=12)\n",
    "    ax.legend(fontsize=12)\n",
    "\n",
    "# Remove any unused subplots\n",
    "for i in range(n, len(axes)):\n",
    "    fig.delaxes(axes[i])\n",
    "\n",
    "plt.tight_layout()\n",
    "plt.show()\n"
   ]
  },
  {
   "cell_type": "code",
   "execution_count": null,
   "metadata": {},
   "outputs": [],
   "source": [
    "print(df.columns)"
   ]
  },
  {
   "cell_type": "code",
   "execution_count": null,
   "metadata": {},
   "outputs": [],
   "source": [
    "categorical_vars = [col for col in df.columns if df[col].dtypes == 'object' and col != 'PatientID'] + ['g0_arrest']\n"
   ]
  },
  {
   "cell_type": "code",
   "execution_count": null,
   "metadata": {},
   "outputs": [],
   "source": [
    "for col in categorical_vars:\n",
    "    plt.figure(figsize=(8, 6))\n",
    "    counts = df[col].value_counts(normalize=True)\n",
    "    \n",
    "    # Get a list of unique colors for the bars\n",
    "    colors = plt.cm.get_cmap('tab20', len(counts))(np.linspace(0, 1, len(counts)))\n",
    "    \n",
    "    # Plot the bars with labels\n",
    "    counts.plot(kind='bar', color=colors)\n",
    "    plt.xticks(rotation=90)\n",
    "    plt.xlabel(col)\n",
    "    plt.ylabel('Proportion')\n",
    "    plt.title(f'Distribution of {col}')\n",
    "    \n",
    "    # Add labels to the bars\n",
    "    for i, v in enumerate(counts):\n",
    "        plt.text(i, v, f\"{v:.2f}\", ha='center', va='bottom', fontsize=10)\n",
    "    \n",
    "    plt.tight_layout()\n",
    "    plt.show()\n"
   ]
  },
  {
   "cell_type": "code",
   "execution_count": null,
   "metadata": {},
   "outputs": [],
   "source": [
    "var_interest = 'Icd 10'\n",
    "# Assuming your DataFrame is called 'df'\n",
    "g0_arrest_counts = df.groupby([var_interest, 'g0_arrest']).size().unstack(fill_value=0)\n",
    "g0_arrest_proportions = g0_arrest_counts.div(g0_arrest_counts.sum(axis=1), axis=0)\n",
    "\n",
    "fig, ax = plt.subplots(figsize=(10, 6))\n",
    "g0_arrest_proportions.plot(kind='bar', ax=ax)\n",
    "\n",
    "ax.set_xlabel('Gender')\n",
    "ax.set_ylabel('Proportion')\n",
    "ax.set_title('Proportion of g0_arrest by Gender')\n",
    "ax.legend(title='g0_arrest')\n",
    "\n",
    "plt.tight_layout()\n",
    "plt.show()\n"
   ]
  },
  {
   "cell_type": "code",
   "execution_count": null,
   "metadata": {},
   "outputs": [],
   "source": [
    "var_interest = 'Icd 10'\n",
    "# Assuming your DataFrame is called 'df'\n",
    "g0_arrest_counts = df.groupby([var_interest, 'g0_arrest']).size().unstack(fill_value=0)\n",
    "g0_arrest_proportions = g0_arrest_counts.div(g0_arrest_counts.sum(axis=1), axis=0)\n",
    "\n",
    "fig, ax = plt.subplots(figsize=(10, 6))\n",
    "\n",
    "# 1) Make the bars stacked\n",
    "g0_arrest_proportions.plot(kind='bar', stacked=True, ax=ax)\n",
    "\n",
    "# 2) Label each bar with the proportion\n",
    "bottom = 0\n",
    "for i in range(len(g0_arrest_proportions.columns)):\n",
    "    for j in range(len(g0_arrest_proportions)):\n",
    "        proportion = g0_arrest_proportions.iloc[j, i]\n",
    "        # ax.text(j, bottom + proportion / 2, f\"{proportion:.2f}\", ha='center', va='center', color='white')\n",
    "        x = j  # Use the row index as the x-coordinate\n",
    "        y = proportion  # Use the proportion value as the y-coordinate\n",
    "        ax.text(x, y, f\"{proportion:.2f}\", ha='center', va='bottom', color='black')\n",
    "    bottom += g0_arrest_proportions.iloc[:, i]\n",
    "\n",
    "ax.set_xlabel(var_interest)\n",
    "ax.set_ylabel('Proportion')\n",
    "ax.set_title('Proportion of g0_arrest by Icd 10')\n",
    "ax.legend(title='g0_arrest')\n",
    "\n",
    "plt.tight_layout()\n",
    "plt.show()"
   ]
  },
  {
   "cell_type": "markdown",
   "metadata": {},
   "source": [
    "### mode impute missing values"
   ]
  },
  {
   "cell_type": "code",
   "execution_count": null,
   "metadata": {},
   "outputs": [],
   "source": [
    "def imputation(split, train_split=df):\n",
    "   mode_values = train_split.mode().iloc[0]\n",
    "\n",
    "   imputed_split = split.fillna(mode_values)\n",
    "\n",
    "   return imputed_split\n",
    "\n",
    "\n",
    "\n",
    "print(\"before imputation:\", sum(df.isna().sum()))\n",
    "# print(\"Number of NaN values per feature: \")\n",
    "# df_train_na = df_train.apply(mode_imputation, axis = 1)\n",
    "df = imputation(df)\n",
    "print(\"after imputation:\", sum(df.isna().sum()))"
   ]
  },
  {
   "cell_type": "markdown",
   "metadata": {},
   "source": [
    "### convert from object to category"
   ]
  },
  {
   "cell_type": "code",
   "execution_count": null,
   "metadata": {},
   "outputs": [],
   "source": [
    "def cast_category(split, train_cat_vars=categorical_vars):\n",
    "    split[train_cat_vars] = split[train_cat_vars].astype('category')\n",
    "    # split = pd.get_dummies(split, columns=train_cat_vars, prefix= train_cat_vars)\n",
    "    return split\n",
    "# df_train[categorical_vars] = df_train[categorical_vars].astype('category')\n",
    "df = cast_category(df)"
   ]
  },
  {
   "cell_type": "code",
   "execution_count": null,
   "metadata": {},
   "outputs": [],
   "source": [
    "df.dtypes"
   ]
  },
  {
   "cell_type": "markdown",
   "metadata": {},
   "source": [
    "### one hot encode categorical variables"
   ]
  },
  {
   "cell_type": "code",
   "execution_count": null,
   "metadata": {},
   "outputs": [],
   "source": [
    "def one_hot_encode(split):\n",
    "  cats = [col for col in split.columns if split[col].dtypes == 'category' and col != 'readmitted']\n",
    "  split = pd.get_dummies(split, columns=cats, prefix= cats)\n",
    "  return split\n",
    "\n",
    "df = one_hot_encode(df)"
   ]
  },
  {
   "cell_type": "code",
   "execution_count": null,
   "metadata": {},
   "outputs": [],
   "source": [
    "# df['Circumferential Resection Margin'].unique()\n"
   ]
  },
  {
   "cell_type": "code",
   "execution_count": null,
   "metadata": {},
   "outputs": [],
   "source": [
    "print(df.shape)\n",
    "df.head()"
   ]
  },
  {
   "cell_type": "code",
   "execution_count": null,
   "metadata": {},
   "outputs": [],
   "source": []
  },
  {
   "cell_type": "code",
   "execution_count": null,
   "metadata": {},
   "outputs": [],
   "source": []
  }
 ],
 "metadata": {
  "kernelspec": {
   "display_name": "biomedai",
   "language": "python",
   "name": "python3"
  },
  "language_info": {
   "codemirror_mode": {
    "name": "ipython",
    "version": 3
   },
   "file_extension": ".py",
   "mimetype": "text/x-python",
   "name": "python",
   "nbconvert_exporter": "python",
   "pygments_lexer": "ipython3",
   "version": "3.9.18"
  }
 },
 "nbformat": 4,
 "nbformat_minor": 2
}
