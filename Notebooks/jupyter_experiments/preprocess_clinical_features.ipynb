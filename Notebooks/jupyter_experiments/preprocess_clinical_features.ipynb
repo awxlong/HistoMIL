{
 "cells": [
  {
   "cell_type": "code",
   "execution_count": null,
   "metadata": {},
   "outputs": [],
   "source": [
    "%load_ext autoreload\n",
    "%autoreload 2"
   ]
  },
  {
   "cell_type": "code",
   "execution_count": null,
   "metadata": {},
   "outputs": [],
   "source": [
    "import pandas as pd\n",
    "from skimpy import skim\n",
    "import numpy as np\n",
    "import matplotlib.pyplot as plt\n",
    "import seaborn as sns\n",
    "import random\n",
    "import pdb\n",
    "from sklearn.preprocessing import OneHotEncoder\n",
    "from sklearn.model_selection import KFold\n",
    "np.random.seed(42)\n",
    "# import pandas_profiling"
   ]
  },
  {
   "cell_type": "code",
   "execution_count": null,
   "metadata": {},
   "outputs": [],
   "source": [
    "# subdirs = os.listdir('/Users/awxlong/Desktop/my-studies/temp_data/CRC/TCGA-CRC/gdc_download_20240629_132916.799980/')\n",
    "cohort_name = 'COAD'\n",
    "task_name = 'g0_arrest'\n",
    "# Parent directory containing subdirectories with XML files\n",
    "parent_directory = '/Users/awxlong/Desktop/my-studies/temp_data/CRC/TCGA-CRC/gdc_download_20240629_132916.799980/'\n",
    "root_dir = '/Users/awxlong/Desktop/my-studies/hpc_exps/Data/'\n",
    "\n",
    "df = pd.read_csv(f'{root_dir}{cohort_name}_WSI_clinical_features.csv')\n"
   ]
  },
  {
   "cell_type": "code",
   "execution_count": null,
   "metadata": {},
   "outputs": [],
   "source": [
    "print(df.shape)\n",
    "df.head()"
   ]
  },
  {
   "cell_type": "code",
   "execution_count": null,
   "metadata": {},
   "outputs": [],
   "source": [
    "df['Gender'].value_counts()"
   ]
  },
  {
   "cell_type": "code",
   "execution_count": null,
   "metadata": {},
   "outputs": [],
   "source": [
    "skim(df)"
   ]
  },
  {
   "cell_type": "code",
   "execution_count": null,
   "metadata": {},
   "outputs": [],
   "source": [
    "# # Numerical features\n",
    "# num_feats=[col for col in df.columns if df[col].dtypes != 'object']\n",
    "\n",
    "# # Plot distribution of numerical columns\n",
    "# fig=plt.figure(figsize=(20,30))\n",
    "# for i, col in enumerate(num_feats):\n",
    "#     plt.subplot(len(num_feats),1,1*i+1)\n",
    "#     sns.distplot(df[col])\n",
    "    \n",
    "# fig.tight_layout()\n",
    "# plt.show()\n",
    "\n",
    "def icd10_to_description(icd10_codes):\n",
    "    icd10_descriptions = {\n",
    "        'C18.0': 'Malignant neoplasm of cecum',\n",
    "        'C18.2': 'Malignant neoplasm of ascending colon',\n",
    "        'C18.3': 'Malignant neoplasm of hepatic flexure',\n",
    "        'C18.4': 'Malignant neoplasm of transverse colon',\n",
    "        'C18.5': 'Malignant neoplasm of splenic flexure',\n",
    "        'C18.6': 'Malignant neoplasm of descending colon',\n",
    "        'C18.7': 'Malignant neoplasm of sigmoid colon',\n",
    "        'C18.9': 'Malignant neoplasm of colon, unspecified',\n",
    "        'C19.9': 'Malignant neoplasm of rectosigmoid junction'\n",
    "    }\n",
    "    \n",
    "    descriptions = []\n",
    "    for code in icd10_codes:\n",
    "        if code in icd10_descriptions:\n",
    "            descriptions.append(icd10_descriptions[code])\n",
    "        else:\n",
    "            descriptions.append('Unknown ICD-10 code')\n",
    "    \n",
    "    return descriptions\n"
   ]
  },
  {
   "cell_type": "code",
   "execution_count": null,
   "metadata": {},
   "outputs": [],
   "source": [
    "print(df.columns)\n",
    "print(df['Icd 10'].unique())\n",
    "# print(df['Icd O 3 Site'].unique())"
   ]
  },
  {
   "cell_type": "code",
   "execution_count": null,
   "metadata": {},
   "outputs": [],
   "source": [
    "df['Icd 10'].value_counts(normalize=True).plot(kind='bar')\n"
   ]
  },
  {
   "cell_type": "markdown",
   "metadata": {},
   "source": [
    "### mode impute missing values"
   ]
  },
  {
   "cell_type": "code",
   "execution_count": null,
   "metadata": {},
   "outputs": [],
   "source": [
    "def imputation(split, train_split=df):\n",
    "   mode_values = train_split.mode().iloc[0]\n",
    "\n",
    "   imputed_split = split.fillna(mode_values)\n",
    "\n",
    "   return imputed_split\n",
    "\n",
    "\n",
    "\n",
    "print(\"before imputation:\", sum(df.isna().sum()))\n",
    "# print(\"Number of NaN values per feature: \")\n",
    "# df_train_na = df_train.apply(mode_imputation, axis = 1)\n",
    "df = imputation(df)\n",
    "print(\"after imputation:\", sum(df.isna().sum()))"
   ]
  },
  {
   "cell_type": "markdown",
   "metadata": {},
   "source": [
    "### convert from object to category"
   ]
  },
  {
   "cell_type": "code",
   "execution_count": null,
   "metadata": {},
   "outputs": [],
   "source": [
    "categorical_vars = [col for col in df.columns if df[col].dtypes == 'object' and col != 'PatientID']\n",
    "def cast_category(split, train_cat_vars=categorical_vars):\n",
    "    split[train_cat_vars] = split[train_cat_vars].astype('category')\n",
    "    # split = pd.get_dummies(split, columns=train_cat_vars, prefix= train_cat_vars)\n",
    "    return split\n",
    "# df_train[categorical_vars] = df_train[categorical_vars].astype('category')\n",
    "df = cast_category(df)"
   ]
  },
  {
   "cell_type": "code",
   "execution_count": null,
   "metadata": {},
   "outputs": [],
   "source": [
    "df.dtypes"
   ]
  },
  {
   "cell_type": "markdown",
   "metadata": {},
   "source": [
    "### one hot encode categorical variables"
   ]
  },
  {
   "cell_type": "code",
   "execution_count": null,
   "metadata": {},
   "outputs": [],
   "source": [
    "def one_hot_encode(split):\n",
    "  cats = [col for col in split.columns if split[col].dtypes == 'category' and col != 'readmitted']\n",
    "  split = pd.get_dummies(split, columns=cats, prefix= cats)\n",
    "  return split\n",
    "\n",
    "df = one_hot_encode(df)"
   ]
  },
  {
   "cell_type": "code",
   "execution_count": null,
   "metadata": {},
   "outputs": [],
   "source": [
    "# df['Circumferential Resection Margin'].unique()\n"
   ]
  },
  {
   "cell_type": "code",
   "execution_count": null,
   "metadata": {},
   "outputs": [],
   "source": [
    "print(df.shape)\n",
    "df.head()"
   ]
  },
  {
   "cell_type": "code",
   "execution_count": null,
   "metadata": {},
   "outputs": [],
   "source": []
  }
 ],
 "metadata": {
  "kernelspec": {
   "display_name": "biomedai",
   "language": "python",
   "name": "python3"
  },
  "language_info": {
   "codemirror_mode": {
    "name": "ipython",
    "version": 3
   },
   "file_extension": ".py",
   "mimetype": "text/x-python",
   "name": "python",
   "nbconvert_exporter": "python",
   "pygments_lexer": "ipython3",
   "version": "3.9.18"
  }
 },
 "nbformat": 4,
 "nbformat_minor": 2
}
