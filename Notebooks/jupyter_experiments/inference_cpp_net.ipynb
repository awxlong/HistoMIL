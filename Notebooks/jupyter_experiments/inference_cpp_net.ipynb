{
 "cells": [
  {
   "cell_type": "code",
   "execution_count": null,
   "metadata": {},
   "outputs": [],
   "source": [
    "%load_ext autoreload\n",
    "%autoreload 2"
   ]
  },
  {
   "cell_type": "code",
   "execution_count": null,
   "metadata": {},
   "outputs": [],
   "source": [
    "import pickle\n",
    "import os\n",
    "os.chdir('/Users/awxlong/Desktop/my-studies/hpc_exps/')"
   ]
  },
  {
   "cell_type": "code",
   "execution_count": null,
   "metadata": {},
   "outputs": [],
   "source": [
    "from HistoMIL.DATA.Slide.concepts.feature import Features\n",
    "from HistoMIL.EXP.paras.env import EnvParas\n"
   ]
  },
  {
   "cell_type": "code",
   "execution_count": null,
   "metadata": {},
   "outputs": [],
   "source": [
    "preprocess_env = EnvParas()\n",
    "\n",
    "machine_cohort_loc = \"/Users/awxlong/Desktop/my-studies/hpc_exps/User/CRC_machine_config.pkl\"\n",
    "with open(machine_cohort_loc, \"rb\") as f:   # Unpickling\n",
    "    [data_locs,exp_locs,machine,user] = pickle.load(f)\n",
    "preprocess_env.data_locs = data_locs\n",
    "preprocess_env.exp_locs = exp_locs"
   ]
  },
  {
   "cell_type": "code",
   "execution_count": null,
   "metadata": {},
   "outputs": [],
   "source": [
    "preprocess_env.collector_para.feature"
   ]
  },
  {
   "cell_type": "code",
   "execution_count": null,
   "metadata": {},
   "outputs": [],
   "source": [
    "import cellseg_models_pytorch as csmp\n",
    "import torch\n",
    "\n",
    "model = csmp.models.cppnet_plus(type_classes=5, sem_classes=3)\n",
    "x = torch.rand([1, 3, 256, 256])\n",
    "\n",
    "# NOTE: the outputs still need post-processing.\n",
    "y = model(x) # {\"cellpose\": [1, 2, 256, 256], \"type\": [1, 5, 256, 256], \"sem\": [1, 3, 256, 256]}\n",
    "\n"
   ]
  },
  {
   "cell_type": "code",
   "execution_count": null,
   "metadata": {},
   "outputs": [],
   "source": [
    "y['type'].shape"
   ]
  }
 ],
 "metadata": {
  "kernelspec": {
   "display_name": "biomedai",
   "language": "python",
   "name": "python3"
  },
  "language_info": {
   "codemirror_mode": {
    "name": "ipython",
    "version": 3
   },
   "file_extension": ".py",
   "mimetype": "text/x-python",
   "name": "python",
   "nbconvert_exporter": "python",
   "pygments_lexer": "ipython3",
   "version": "3.9.18"
  }
 },
 "nbformat": 4,
 "nbformat_minor": 2
}
