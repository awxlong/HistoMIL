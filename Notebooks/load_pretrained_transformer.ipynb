{
 "cells": [
  {
   "cell_type": "code",
   "execution_count": 1,
   "metadata": {},
   "outputs": [],
   "source": [
    "%load_ext autoreload\n",
    "%autoreload 2"
   ]
  },
  {
   "cell_type": "code",
   "execution_count": 2,
   "metadata": {},
   "outputs": [],
   "source": [
    "from transformer_mil import Transformer\n",
    "import pdb\n",
    "import torch"
   ]
  },
  {
   "cell_type": "code",
   "execution_count": 11,
   "metadata": {},
   "outputs": [],
   "source": [
    "model_config = {'heads': 8, \n",
    "                'dim_head': 64, \n",
    "                'dim': 512, \n",
    "                'mlp_dim': 512, \n",
    "                'input_dim':768}"
   ]
  },
  {
   "cell_type": "code",
   "execution_count": 16,
   "metadata": {},
   "outputs": [
    {
     "data": {
      "text/plain": [
       "<All keys matched successfully>"
      ]
     },
     "execution_count": 16,
     "metadata": {},
     "output_type": "execute_result"
    }
   ],
   "source": [
    "model = Transformer(num_classes=1, **model_config)\n",
    "state_dict = torch.load('MSI_high_CRC_model.pth')\n",
    "# Remove the criterion.pos_weight since it's not part of model\n",
    "state_dict.pop('criterion.pos_weight', None)\n",
    "# Remove the 'model.' prefix from the keys\n",
    "new_state_dict = {}\n",
    "for k, v in state_dict.items():\n",
    "    new_key = k.replace('model.', '')\n",
    "    new_state_dict[new_key] = v\n",
    "\n",
    "\n",
    "# # Get the keys from both dictionaries\n",
    "# pretrained_keys = set(new_state_dict.keys())\n",
    "# model_keys = set(model.state_dict().keys())\n",
    "\n",
    "# # Find keys that are in the pretrained weights but not in the model\n",
    "# extra_keys = pretrained_keys - model_keys\n",
    "\n",
    "# # Find keys that are in the model but not in the pretrained weights\n",
    "# missing_keys = model_keys - pretrained_keys\n",
    "\n",
    "# # Print the results\n",
    "# print(\"Keys in pretrained weights but not in model:\")\n",
    "# for key in extra_keys:\n",
    "#     print(f\"  {key}\")\n",
    "\n",
    "# print(\"\\nKeys in model but not in pretrained weights:\")\n",
    "# for key in missing_keys:\n",
    "#     print(f\"  {key}\")\n",
    "\n",
    "# # If you want to see the corresponding shapes of the tensors:\n",
    "# print(\"\\nShapes of extra keys in pretrained weights:\")\n",
    "# for key in extra_keys:\n",
    "#     print(f\"  {key}: {state_dict[key].shape}\")\n",
    "\n",
    "# print(\"\\nShapes of missing keys in model:\")\n",
    "# for key in missing_keys:\n",
    "#     print(f\"  {key}: {model.state_dict()[key].shape}\")\n",
    "# pos_weight = new_state_dict['criterion.pos_weight'].item()\n",
    "# print(f\"Positive class weight used in training: {pos_weight}\")\n",
    "# pdb.set_trace()\n",
    "# Load the modified state dictionary into your model\n",
    "model.load_state_dict(new_state_dict)\n",
    "# model.load_state_dict(torch.load('MSI_high_CRC_model.pth'), strict=True)\n",
    "# pdb.set_trace()"
   ]
  },
  {
   "cell_type": "code",
   "execution_count": 17,
   "metadata": {},
   "outputs": [
    {
     "data": {
      "text/plain": [
       "Transformer(\n",
       "  (projection): Sequential(\n",
       "    (0): Linear(in_features=768, out_features=512, bias=True)\n",
       "    (1): ReLU()\n",
       "  )\n",
       "  (mlp_head): Sequential(\n",
       "    (0): LayerNorm((512,), eps=1e-05, elementwise_affine=True)\n",
       "    (1): Linear(in_features=512, out_features=1, bias=True)\n",
       "  )\n",
       "  (transformer): TransformerBlocks(\n",
       "    (layers): ModuleList(\n",
       "      (0-1): 2 x ModuleList(\n",
       "        (0): PreNorm(\n",
       "          (fn): Attention(\n",
       "            (attend): Softmax(dim=-1)\n",
       "            (to_qkv): Linear(in_features=512, out_features=1536, bias=False)\n",
       "            (to_out): Sequential(\n",
       "              (0): Linear(in_features=512, out_features=512, bias=True)\n",
       "              (1): Dropout(p=0.0, inplace=False)\n",
       "            )\n",
       "          )\n",
       "          (norm): LayerNorm((512,), eps=1e-05, elementwise_affine=True)\n",
       "        )\n",
       "        (1): PreNorm(\n",
       "          (fn): FeedForward(\n",
       "            (net): Sequential(\n",
       "              (0): Linear(in_features=512, out_features=512, bias=True)\n",
       "              (1): GELU(approximate='none')\n",
       "              (2): Dropout(p=0.0, inplace=False)\n",
       "              (3): Linear(in_features=512, out_features=512, bias=True)\n",
       "              (4): Dropout(p=0.0, inplace=False)\n",
       "            )\n",
       "          )\n",
       "          (norm): LayerNorm((512,), eps=1e-05, elementwise_affine=True)\n",
       "        )\n",
       "      )\n",
       "    )\n",
       "  )\n",
       "  (norm): LayerNorm((512,), eps=1e-05, elementwise_affine=True)\n",
       "  (dropout): Dropout(p=0.0, inplace=False)\n",
       ")"
      ]
     },
     "execution_count": 17,
     "metadata": {},
     "output_type": "execute_result"
    }
   ],
   "source": [
    "model"
   ]
  },
  {
   "cell_type": "code",
   "execution_count": null,
   "metadata": {},
   "outputs": [],
   "source": [
    "# Load the state dict\n",
    "state_dict = torch.load('path_to_your_pretrained_weights.pth')\n",
    "\n",
    "# Remove the criterion.pos_weight\n",
    "state_dict.pop('criterion.pos_weight', None)\n",
    "\n",
    "# Get the model's state dict\n",
    "model_state_dict = model.state_dict()\n",
    "\n",
    "# Filter out the keys with size mismatches\n",
    "filtered_state_dict = {k: v for k, v in state_dict.items() if k in model_state_dict and v.size() == model_state_dict[k].size()}\n",
    "\n",
    "# Load the filtered state dict into your model\n",
    "model.load_state_dict(filtered_state_dict, strict=False)\n",
    "\n",
    "# Manually initialize the layers with size mismatches\n",
    "torch.nn.init.xavier_uniform_(model.projection[0].weight)\n",
    "torch.nn.init.zeros_(model.mlp_head[1].weight)\n",
    "torch.nn.init.zeros_(model.mlp_head[1].bias)\n"
   ]
  },
  {
   "cell_type": "code",
   "execution_count": null,
   "metadata": {},
   "outputs": [],
   "source": []
  },
  {
   "cell_type": "code",
   "execution_count": null,
   "metadata": {},
   "outputs": [],
   "source": []
  }
 ],
 "metadata": {
  "kernelspec": {
   "display_name": "biomedai",
   "language": "python",
   "name": "python3"
  },
  "language_info": {
   "codemirror_mode": {
    "name": "ipython",
    "version": 3
   },
   "file_extension": ".py",
   "mimetype": "text/x-python",
   "name": "python",
   "nbconvert_exporter": "python",
   "pygments_lexer": "ipython3",
   "version": "3.9.18"
  }
 },
 "nbformat": 4,
 "nbformat_minor": 2
}
