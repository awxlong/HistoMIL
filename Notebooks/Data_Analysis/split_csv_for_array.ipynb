{
 "cells": [
  {
   "cell_type": "code",
   "execution_count": null,
   "metadata": {},
   "outputs": [],
   "source": [
    "import pandas as pd\n",
    "import math"
   ]
  },
  {
   "cell_type": "code",
   "execution_count": null,
   "metadata": {},
   "outputs": [],
   "source": [
    "# Read the CSV files\n",
    "\n",
    "idx = 5\n",
    "cohort_name = 'COAD'\n",
    "task_name = 'g0_arrest'\n",
    "root = '/Users/awxlong/Desktop/my-studies/hpc_exps/Data/'\n",
    "df1 = pd.read_csv(f'{root}local_cohort_{cohort_name}.csv')\n",
    "df2 = pd.read_csv(f'{root}{cohort_name}_{task_name}.csv')\n",
    "\n",
    "# Merge the dataframes on PatientID\n",
    "merged_df = pd.merge(df1, df2, on='PatientID').drop_duplicates()\n",
    "\n",
    "# Calculate the number of rows for each part\n",
    "total_rows = len(merged_df)\n",
    "rows_per_part = math.ceil(total_rows / idx)\n",
    "\n",
    "# Split and save the data\n",
    "for i in range(idx):\n",
    "    start_idx = i * rows_per_part\n",
    "    end_idx = min((i + 1) * rows_per_part, total_rows)\n",
    "    \n",
    "    # Split the merged dataframe\n",
    "    part_df = merged_df.iloc[start_idx:end_idx]\n",
    "    \n",
    "    # Split df1\n",
    "    part_df1 = part_df[df1.columns]\n",
    "    part_df1.to_csv(f'{root}local_cohort_{cohort_name}_{i+1}.csv', index=False)\n",
    "    \n",
    "    # Split df2\n",
    "    part_df2 = part_df[['PatientID', f'{task_name}']]\n",
    "    part_df2.to_csv(f'{root}{cohort_name}_{task_name}_{i+1}.csv', index=False)\n",
    "    print(f\"Files {root}{cohort_name}_{task_name}_{i+1}.csv and {root}local_cohort_{cohort_name}_{i+1}.csv have been split and saved successfully.\")\n",
    "\n"
   ]
  },
  {
   "cell_type": "code",
   "execution_count": null,
   "metadata": {},
   "outputs": [],
   "source": [
    "start_idx - end_idx\n",
    "159 * 2 + 157\n",
    "total_rows\n",
    "df2.shape"
   ]
  },
  {
   "cell_type": "code",
   "execution_count": null,
   "metadata": {},
   "outputs": [],
   "source": [
    "# rows_per_part * 5 \n",
    "lst1 = list(df1['PatientID'])\n",
    "lst2 = list(df2['PatientID'])\n",
    "\n",
    "# Convert lists to sets\n",
    "set1 = set(lst1)\n",
    "set2 = set(lst2)\n",
    "\n",
    "# Find the differences\n",
    "diff1 = set1 - set2  # Elements in list1 but not in list2\n",
    "diff2 = set2 - set1  # Elements in list2 but not in list1\n",
    "\n",
    "# Combine the differences\n",
    "differences = diff1.union(diff2)\n",
    "\n",
    "# Convert the set back to a list (if needed)\n",
    "differences_list = list(differences)\n",
    "\n",
    "# Print the results\n",
    "print(\"Strings that are different between the two lists:\")\n",
    "print(differences_list)\n"
   ]
  },
  {
   "cell_type": "code",
   "execution_count": null,
   "metadata": {},
   "outputs": [],
   "source": [
    "df1.shape\n",
    "df1['PatientID'].nunique()"
   ]
  },
  {
   "cell_type": "code",
   "execution_count": null,
   "metadata": {},
   "outputs": [],
   "source": [
    "df3 = pd.merge(df1, df2, on='PatientID')"
   ]
  }
 ],
 "metadata": {
  "kernelspec": {
   "display_name": "biomedai",
   "language": "python",
   "name": "python3"
  },
  "language_info": {
   "codemirror_mode": {
    "name": "ipython",
    "version": 3
   },
   "file_extension": ".py",
   "mimetype": "text/x-python",
   "name": "python",
   "nbconvert_exporter": "python",
   "pygments_lexer": "ipython3",
   "version": "3.9.18"
  }
 },
 "nbformat": 4,
 "nbformat_minor": 2
}
