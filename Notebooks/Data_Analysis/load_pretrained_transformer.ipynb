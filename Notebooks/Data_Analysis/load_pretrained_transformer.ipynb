{
 "cells": [
  {
   "cell_type": "code",
   "execution_count": 1,
   "metadata": {},
   "outputs": [],
   "source": [
    "%load_ext autoreload\n",
    "%autoreload 2\n",
    "\n"
   ]
  },
  {
   "cell_type": "code",
   "execution_count": 2,
   "metadata": {},
   "outputs": [],
   "source": [
    "# from transformer_mil import Transformer\n",
    "import pdb\n",
    "import torch\n",
    "import os"
   ]
  },
  {
   "cell_type": "code",
   "execution_count": 7,
   "metadata": {},
   "outputs": [
    {
     "data": {
      "text/plain": [
       "['resnet50',\n",
       " '.DS_Store',\n",
       " 'resnet18',\n",
       " 'prov-gigapath',\n",
       " 'ctranspath',\n",
       " 'uni',\n",
       " '8472de58-9075-4534-b00b-3a87ba2158da.TCGA-AD-6963-01Z-00-DX1.7df2e133-5f24-4c0a-b7f5-5a65fe3420c9.svs.pt',\n",
       " 'tcga_folder_1.TCGA-A8-A085-01Z-00-DX1.2B52D1B8-5AD4-4BD6-ADF7-9D65B8EE2622.svs.pt',\n",
       " 'tcga_folder_2.TCGA-A8-A084-01Z-00-DX1.2B52D1B8-5AD4-4BD6-ADF7-9D65B8EE2621.svs.pt',\n",
       " 'a72573a6-2462-4185-b4e8-a081c95d8fd7.TCGA-AA-3713-01Z-00-DX1.8148ACEB-7C1E-4D29-B908-F3729657EA4F.svs.pt']"
      ]
     },
     "execution_count": 7,
     "metadata": {},
     "output_type": "execute_result"
    }
   ],
   "source": [
    "os.listdir('/Users/awxlong/Desktop/my-studies/temp_data/CRC/Feature')"
   ]
  },
  {
   "cell_type": "code",
   "execution_count": 13,
   "metadata": {},
   "outputs": [],
   "source": [
    "rand_vec = torch.rand(15, 1024)\n"
   ]
  },
  {
   "cell_type": "code",
   "execution_count": 14,
   "metadata": {},
   "outputs": [],
   "source": [
    "rand_vec.shape\n",
    "torch.save(rand_vec, \\\n",
    "           '/Users/awxlong/Desktop/my-studies/temp_data/CRC/Feature/uni/a72573a6-2462-4185-b4e8-a081c95d8fd7.TCGA-AA-3713-01Z-00-DX1.8148ACEB-7C1E-4D29-B908-F3729657EA4F.svs.pt')"
   ]
  },
  {
   "cell_type": "code",
   "execution_count": 31,
   "metadata": {},
   "outputs": [],
   "source": [
    "embedding = torch.load('/Users/awxlong/Desktop/my-studies/temp_data/CRC/Feature/resnet50/8472de58-9075-4534-b00b-3a87ba2158da.TCGA-AD-6963-01Z-00-DX1.7df2e133-5f24-4c0a-b7f5-5a65fe3420c9.svs.pt')\n",
    "embedding = torch.load('/Users/awxlong/Desktop/my-studies/temp_data/CRC/Feature/uni/8472de58-9075-4534-b00b-3a87ba2158da.TCGA-AD-6963-01Z-00-DX1.7df2e133-5f24-4c0a-b7f5-5a65fe3420c9.svs.pt')\n",
    "embedding = torch.load('/Users/awxlong/Desktop/my-studies/temp_data/CRC/Feature/uni/a72573a6-2462-4185-b4e8-a081c95d8fd7.TCGA-AA-3713-01Z-00-DX1.8148ACEB-7C1E-4D29-B908-F3729657EA4F.svs.pt')\n",
    "# embedding = torch.load('/Users/awxlong/Desktop/my-studies/temp_data/CRC/Feature/uni/tcga_folder_1.TCGA-A8-A085-01Z-00-DX1.2B52D1B8-5AD4-4BD6-ADF7-9D65B8EE2622_uni.svs.pt')\n",
    "\n",
    "# embedding = torch.load('/Users/awxlong/Desktop/my-studies/temp_data/CRC/Feature/uni/tcga_folder_2.TCGA-A8-A084-01Z-00-DX1.2B52D1B8-5AD4-4BD6-ADF7-9D65B8EE2621.svs.pt')\n",
    "embedding = torch.load('/Users/awxlong/Desktop/my-studies/temp_data/CRC/Feature/uni/tcga_folder_1.TCGA-A8-A085-01Z-00-DX1.2B52D1B8-5AD4-4BD6-ADF7-9D65B8EE2622.svs.pt')\n",
    "\n"
   ]
  },
  {
   "cell_type": "code",
   "execution_count": 32,
   "metadata": {},
   "outputs": [
    {
     "data": {
      "text/plain": [
       "torch.Size([15518, 1536])"
      ]
     },
     "execution_count": 32,
     "metadata": {},
     "output_type": "execute_result"
    }
   ],
   "source": [
    "embedding.shape"
   ]
  },
  {
   "cell_type": "code",
   "execution_count": null,
   "metadata": {},
   "outputs": [],
   "source": [
    "model_config = {'heads': 8, \n",
    "                'dim_head': 64, \n",
    "                'dim': 512, \n",
    "                'mlp_dim': 512, \n",
    "                'input_dim':768}"
   ]
  },
  {
   "cell_type": "code",
   "execution_count": null,
   "metadata": {},
   "outputs": [],
   "source": [
    "model = Transformer(num_classes=1, **model_config)\n",
    "state_dict = torch.load('MSI_high_CRC_model.pth')\n",
    "# Remove the criterion.pos_weight since it's not part of model\n",
    "state_dict.pop('criterion.pos_weight', None)\n",
    "# Remove the 'model.' prefix from the keys\n",
    "new_state_dict = {}\n",
    "for k, v in state_dict.items():\n",
    "    new_key = k.replace('model.', '')\n",
    "    new_state_dict[new_key] = v\n",
    "\n",
    "\n",
    "# # Get the keys from both dictionaries\n",
    "# pretrained_keys = set(new_state_dict.keys())\n",
    "# model_keys = set(model.state_dict().keys())\n",
    "\n",
    "# # Find keys that are in the pretrained weights but not in the model\n",
    "# extra_keys = pretrained_keys - model_keys\n",
    "\n",
    "# # Find keys that are in the model but not in the pretrained weights\n",
    "# missing_keys = model_keys - pretrained_keys\n",
    "\n",
    "# # Print the results\n",
    "# print(\"Keys in pretrained weights but not in model:\")\n",
    "# for key in extra_keys:\n",
    "#     print(f\"  {key}\")\n",
    "\n",
    "# print(\"\\nKeys in model but not in pretrained weights:\")\n",
    "# for key in missing_keys:\n",
    "#     print(f\"  {key}\")\n",
    "\n",
    "# # If you want to see the corresponding shapes of the tensors:\n",
    "# print(\"\\nShapes of extra keys in pretrained weights:\")\n",
    "# for key in extra_keys:\n",
    "#     print(f\"  {key}: {state_dict[key].shape}\")\n",
    "\n",
    "# print(\"\\nShapes of missing keys in model:\")\n",
    "# for key in missing_keys:\n",
    "#     print(f\"  {key}: {model.state_dict()[key].shape}\")\n",
    "# pos_weight = new_state_dict['criterion.pos_weight'].item()\n",
    "# print(f\"Positive class weight used in training: {pos_weight}\")\n",
    "# pdb.set_trace()\n",
    "# Load the modified state dictionary into your model\n",
    "model.load_state_dict(new_state_dict)\n",
    "# model.load_state_dict(torch.load('MSI_high_CRC_model.pth'), strict=True)\n",
    "# pdb.set_trace()"
   ]
  },
  {
   "cell_type": "code",
   "execution_count": null,
   "metadata": {},
   "outputs": [],
   "source": [
    "model"
   ]
  },
  {
   "cell_type": "code",
   "execution_count": null,
   "metadata": {},
   "outputs": [],
   "source": [
    "# Load the state dict\n",
    "state_dict = torch.load('path_to_your_pretrained_weights.pth')\n",
    "\n",
    "# Remove the criterion.pos_weight\n",
    "state_dict.pop('criterion.pos_weight', None)\n",
    "\n",
    "# Get the model's state dict\n",
    "model_state_dict = model.state_dict()\n",
    "\n",
    "# Filter out the keys with size mismatches\n",
    "filtered_state_dict = {k: v for k, v in state_dict.items() if k in model_state_dict and v.size() == model_state_dict[k].size()}\n",
    "\n",
    "# Load the filtered state dict into your model\n",
    "model.load_state_dict(filtered_state_dict, strict=False)\n",
    "\n",
    "# Manually initialize the layers with size mismatches\n",
    "torch.nn.init.xavier_uniform_(model.projection[0].weight)\n",
    "torch.nn.init.zeros_(model.mlp_head[1].weight)\n",
    "torch.nn.init.zeros_(model.mlp_head[1].bias)\n"
   ]
  },
  {
   "cell_type": "code",
   "execution_count": null,
   "metadata": {},
   "outputs": [],
   "source": []
  },
  {
   "cell_type": "code",
   "execution_count": null,
   "metadata": {},
   "outputs": [],
   "source": []
  }
 ],
 "metadata": {
  "kernelspec": {
   "display_name": "biomedai",
   "language": "python",
   "name": "python3"
  },
  "language_info": {
   "codemirror_mode": {
    "name": "ipython",
    "version": 3
   },
   "file_extension": ".py",
   "mimetype": "text/x-python",
   "name": "python",
   "nbconvert_exporter": "python",
   "pygments_lexer": "ipython3",
   "version": "3.9.18"
  }
 },
 "nbformat": 4,
 "nbformat_minor": 2
}
