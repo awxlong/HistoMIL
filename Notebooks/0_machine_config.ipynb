{
 "cells": [
  {
   "attachments": {},
   "cell_type": "markdown",
   "metadata": {},
   "source": [
    "# HistoMIL Setup Notebook\n",
    "\n",
    "This Jupyter notebook is intended to help users get started with HistoMIL by guiding them through the process of locating and organizing the required data and files. Additionally, it will cover how to specify your logger API (set wandb API key) to enable experiment tracking and visualization using Weights & Biases (wandb)."
   ]
  },
  {
   "attachments": {},
   "cell_type": "markdown",
   "metadata": {},
   "source": [
    "## Getting Started\n",
    "\n",
    "Before proceeding with this notebook, please make sure that you have followed the setup instructions provided in the project's README file. This includes creating a conda environment and installing the required dependencies."
   ]
  },
  {
   "attachments": {},
   "cell_type": "markdown",
   "metadata": {},
   "source": [
    "## Organise files\n",
    "\n",
    "Before proceeding experiments, please make sure that you organise your file in two main folders. \n",
    "\n",
    "(1)Data folder should include all data and the preprocessed files will also be saved here. \n",
    "\n",
    "(2)Experiment folder should include HistoMIL folder and others (data index, pre-trained, etc.)\n",
    "\n",
    "All of these information will be saved in machine instance."
   ]
  },
  {
   "cell_type": "code",
   "execution_count": null,
   "metadata": {},
   "outputs": [],
   "source": [
    "%load_ext autoreload\n",
    "%autoreload 2"
   ]
  },
  {
   "cell_type": "code",
   "execution_count": null,
   "metadata": {},
   "outputs": [],
   "source": [
    "from HistoMIL.DATA.Cohort.location import Locations\n",
    "from HistoMIL.EXP.workspace.env import Machine\n",
    "from HistoMIL.EXP.workspace.env import Person\n",
    "\n",
    "from dotenv import load_dotenv\n",
    "import os\n",
    "import sys\n",
    "import pickle"
   ]
  },
  {
   "cell_type": "code",
   "execution_count": null,
   "metadata": {},
   "outputs": [],
   "source": [
    "#--------------------------> init machine and person\n",
    "localcohort_name = \"BRCA\"               # name of the cohort of patients\n",
    "data_dir = f'path/to/DATA/{localcohort_name}/'\n",
    "exp_dir = f'path/to/EXP/'\n",
    "data_locs = Locations(  root=data_dir,\n",
    "                        sub_dirs={\n",
    "                                \"slide\":f\"TCGA-{localcohort_name}/\", # where slides will be (downloaded) and read\n",
    "                                \"tissue\":\"Tissue/\",                  # where segmented tissue will be stored as a .pkl file\n",
    "                                \"patch\":\"Patch/\",                    # where cropped patches' indices will be stored as a .h5 file\n",
    "                                \"patch_img\":\"Patch_Image/\",# need to add for SSL\n",
    "                                \"feature\":\"Feature/\",                # where extracted feature vectors are stored as .pt files\n",
    "                                })\n",
    "exp_locs = Locations(  root=exp_dir,\n",
    "                        sub_dirs={\n",
    "                                \"src\":\"HistoMIL/\",                   # where HistoMIL is git cloned\n",
    "                                \"idx\":\"/Data/\",                      # where .csv files with cohort files and task data\n",
    "                                \"saved_models\":\"/SavedModels/\",         \n",
    "                                \"out_files\":\"/OutFiles/\",\n",
    "                                \"temp\":\"/Temp/\",\n",
    "                                \"user\":\"/User/\",                     # where User's data such as name, data_dir and exp_dir are stored as .pkl file\n",
    "                                     })\n",
    "\n",
    "machine = Machine(data_locs,exp_locs)"
   ]
  },
  {
   "attachments": {},
   "cell_type": "markdown",
   "metadata": {},
   "source": [
    "## Specifying Person\n",
    "\n",
    "HistoMIL has a Person class designed to store user-related information, such as a possible username and the key for the related logger. This class can be used to specify the user's information and be passed as a parameter to relevant HistoMIL functions.\n",
    "\n",
    "If you wish to use wandb to track and visualize your experiments with HistoMIL, you will need to specify your wandb API key. This section of the notebook will guide you through the process of doing so."
   ]
  },
  {
   "cell_type": "code",
   "execution_count": null,
   "metadata": {},
   "outputs": [],
   "source": [
    "# Logging information\n",
    "\n",
    "userid = f'a user id'\n",
    "username = f'a username' \n",
    "api_dir = 'path/to API.env/'                     # We assume you store your API keys in a .env file\n",
    "load_dotenv(dotenv_path=f\"{api_dir}API.env\")\n",
    "\n",
    "\n",
    "user = Person(id=userid)\n",
    "user.name = username\n",
    "user.wandb_api_key = os.getenv(\"WANDB_API_KEY\") # We assume your wandb API key is named as WANDB_API_KEY in the API.env file"
   ]
  },
  {
   "attachments": {},
   "cell_type": "markdown",
   "metadata": {},
   "source": [
    "## Saving Person and Machine Information (Optional)\n",
    "\n",
    "You can optionally define and save the Person and machine-related information here to use across different notebooks. To do so, create a pkl file in the selected path and define your Person object and any other relevant machine-related information. \n",
    "\n",
    "Note: Make sure to include the saved file in your .gitignore to prevent accidentally committing sensitive information to your repository."
   ]
  },
  {
   "cell_type": "code",
   "execution_count": null,
   "metadata": {},
   "outputs": [],
   "source": [
    "# save as pickle\n",
    "loc = exp_locs.abs_loc(\"user\")\n",
    "with open(f\"/{loc}/{localcohort_name}_machine_config.pkl\", 'wb') as f:\n",
    "    pickle.dump([data_locs,exp_locs,machine,user], f)"
   ]
  }
 ],
 "metadata": {
  "kernelspec": {
   "display_name": "Histo",
   "language": "python",
   "name": "python3"
  },
  "language_info": {
   "name": "python",
   "version": "3.9.12"
  },
  "orig_nbformat": 4
 },
 "nbformat": 4,
 "nbformat_minor": 2
}
