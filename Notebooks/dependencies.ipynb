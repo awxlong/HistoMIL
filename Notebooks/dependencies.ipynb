{
 "cells": [
  {
   "cell_type": "code",
   "execution_count": 3,
   "metadata": {},
   "outputs": [
    {
     "name": "stdout",
     "output_type": "stream",
     "text": [
      "Filtered requirements written to filtered_requirements.txt\n"
     ]
    }
   ],
   "source": [
    "import pkg_resources\n",
    "\n",
    "# Read the installed packages\n",
    "with open('/Users/awxlong/Desktop/my-studies/hpc_exps/HistoMIL/cluster_pkgs.txt', 'r') as f:\n",
    "    installed_packages = {pkg.key: pkg.marker for pkg in pkg_resources.parse_requirements(f)}\n",
    "\n",
    "# Read the requirements file\n",
    "with open('/Users/awxlong/Desktop/my-studies/hpc_exps/HistoMIL/requirements.txt', 'r') as f:\n",
    "    requirements = list(pkg_resources.parse_requirements(f))\n",
    "\n",
    "# Filter out already installed packages\n",
    "filtered_requirements = []\n",
    "for req in requirements:\n",
    "    if req.key not in installed_packages or installed_packages[req.key] != str(req.specifier):\n",
    "        filtered_requirements.append(str(req))\n",
    "\n",
    "# Write the filtered requirements to a new file\n",
    "with open('filtered_requirements.txt', 'w') as f:\n",
    "    f.write('\\n'.join(filtered_requirements))\n",
    "\n",
    "print(\"Filtered requirements written to filtered_requirements.txt\")"
   ]
  }
 ],
 "metadata": {
  "kernelspec": {
   "display_name": "biomedai",
   "language": "python",
   "name": "python3"
  },
  "language_info": {
   "codemirror_mode": {
    "name": "ipython",
    "version": 3
   },
   "file_extension": ".py",
   "mimetype": "text/x-python",
   "name": "python",
   "nbconvert_exporter": "python",
   "pygments_lexer": "ipython3",
   "version": "3.9.18"
  }
 },
 "nbformat": 4,
 "nbformat_minor": 2
}
